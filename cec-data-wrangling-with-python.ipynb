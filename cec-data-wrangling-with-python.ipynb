{
 "cells": [
  {
   "cell_type": "markdown",
   "metadata": {
    "slideshow": {
     "slide_type": "slide"
    }
   },
   "source": [
    "# Python 的 50+ 練習：資料科學學習手冊\n",
    "\n",
    "> 資料清理轉換專案：中選會選舉資料庫\n",
    "\n",
    "[數聚點](https://www.datainpoint.com/) | 郭耀仁 <https://linktr.ee/yaojenkuo>"
   ]
  },
  {
   "cell_type": "markdown",
   "metadata": {
    "slideshow": {
     "slide_type": "subslide"
    }
   },
   "source": [
    "## 專案的第三方模組\n",
    "\n",
    "<https://github.com/datainpoint/workshop-cec-data-wrangling-with-python/blob/main/requirements.txt>"
   ]
  },
  {
   "cell_type": "code",
   "execution_count": 1,
   "metadata": {
    "slideshow": {
     "slide_type": "-"
    }
   },
   "outputs": [],
   "source": [
    "from string import ascii_uppercase\n",
    "import os\n",
    "import re\n",
    "import pandas as pd\n",
    "import sqlite3"
   ]
  },
  {
   "cell_type": "markdown",
   "metadata": {
    "slideshow": {
     "slide_type": "slide"
    }
   },
   "source": [
    "## 現代資料科學"
   ]
  },
  {
   "cell_type": "markdown",
   "metadata": {
    "slideshow": {
     "slide_type": "subslide"
    }
   },
   "source": [
    "## 以程式設計做資料科學的應用\n",
    "\n",
    "![](images/r-for-data-science.png)\n",
    "\n",
    "來源：[R for Data Science](https://r4ds.had.co.nz)"
   ]
  },
  {
   "cell_type": "markdown",
   "metadata": {
    "slideshow": {
     "slide_type": "subslide"
    }
   },
   "source": [
    "## 什麼是資料科學的應用場景\n",
    "\n",
    "- Import 資料的載入。\n",
    "- **Tidy 資料清理**。\n",
    "- **Transform 資料外型與類別的轉換**。\n",
    "- Visualise 探索性分析。\n",
    "- Model 分析與預測模型。\n",
    "- Communicate 溝通分享。"
   ]
  },
  {
   "cell_type": "markdown",
   "metadata": {
    "slideshow": {
     "slide_type": "subslide"
    }
   },
   "source": [
    "## （沒什麼用的冷知識）Wrangle\n",
    "\n",
    "![](https://media.giphy.com/media/MnlZWRFHR4xruE4N2Z/giphy.gif)\n",
    "\n",
    "來源：<https://media.giphy.com/media/MnlZWRFHR4xruE4N2Z/giphy.gif>"
   ]
  },
  {
   "cell_type": "markdown",
   "metadata": {
    "slideshow": {
     "slide_type": "subslide"
    }
   },
   "source": [
    "## 機器學習專案花費 50% 的時間處理 Data Wrangle 的相關任務\n",
    "\n",
    "![](images/average-time-allocated.png)\n",
    "\n",
    "來源：<https://www.economist.com/technology-quarterly/2020/06/11/for-ai-data-are-harder-to-come-by-than-you-think>"
   ]
  },
  {
   "cell_type": "markdown",
   "metadata": {
    "slideshow": {
     "slide_type": "subslide"
    }
   },
   "source": [
    "## 多數的資料清理、資料外型與類別的轉換是面對 `DataFrame`\n",
    "\n",
    "入門 Pandas 的第一步就是掌握 `Index`、`ndarray`、`Series` 與 `DataFrame` 四個資料結構類別彼此之間的關係。\n",
    "\n",
    "- `Series` 由 `Index` 與 `ndarray` 組合而成。\n",
    "- `DataFrame` 由數個共享同一個 `Index` 的 `Series` 組合而成。"
   ]
  },
  {
   "cell_type": "markdown",
   "metadata": {
    "slideshow": {
     "slide_type": "subslide"
    }
   },
   "source": [
    "## `DataFrame` 是有兩個維度的資料結構\n",
    "\n",
    "- 第一個維度稱為觀測值（Observations），有時亦稱為列（Rows）\n",
    "- 第二個維度稱為變數（Variables），有時亦稱為欄（Columns）\n",
    "- 我們習慣以 `(m, n)` 或者 `m x n` 來描述一個具有 `m` 列觀測值、`n` 欄變數的 `DataFrame`"
   ]
  },
  {
   "cell_type": "markdown",
   "metadata": {
    "slideshow": {
     "slide_type": "subslide"
    }
   },
   "source": [
    "## `DataFrame` 與二維 `ndarray` 不同的地方\n",
    "\n",
    "- `DataFrame` 的每個變數可以是異質的。\n",
    "- `DataFrame` 的觀測值具有列標籤（row-label）、變數具有欄標籤（column-label）"
   ]
  },
  {
   "cell_type": "markdown",
   "metadata": {
    "slideshow": {
     "slide_type": "subslide"
    }
   },
   "source": [
    "## 什麼是乾淨資料\n",
    "\n",
    "1. 每個變數有自己的欄位。\n",
    "2. 每個觀測值有自己的資料列。\n",
    "3. 每個列、欄標籤與值的對應有自己的儲存格。\n",
    "\n",
    "![](images/tidy-data.png)\n",
    "\n",
    "來源：<https://r4ds.had.co.nz/tidy-data.html>"
   ]
  },
  {
   "cell_type": "markdown",
   "metadata": {
    "slideshow": {
     "slide_type": "subslide"
    }
   },
   "source": [
    "## 不乾淨資料有著各自的樣態\n",
    "\n",
    "> Tidy datasets are all alike, but every messy dataset is messy in its own way.\n",
    ">\n",
    "> Hadley Wickham\n",
    "\n",
    "來源：<https://r4ds.had.co.nz/tidy-data.html>"
   ]
  },
  {
   "cell_type": "markdown",
   "metadata": {
    "slideshow": {
     "slide_type": "subslide"
    }
   },
   "source": [
    "## 不乾淨資料"
   ]
  },
  {
   "cell_type": "code",
   "execution_count": 2,
   "metadata": {},
   "outputs": [
    {
     "data": {
      "text/html": [
       "<div>\n",
       "<style scoped>\n",
       "    .dataframe tbody tr th:only-of-type {\n",
       "        vertical-align: middle;\n",
       "    }\n",
       "\n",
       "    .dataframe tbody tr th {\n",
       "        vertical-align: top;\n",
       "    }\n",
       "\n",
       "    .dataframe thead th {\n",
       "        text-align: right;\n",
       "    }\n",
       "</style>\n",
       "<table border=\"1\" class=\"dataframe\">\n",
       "  <thead>\n",
       "    <tr style=\"text-align: right;\">\n",
       "      <th></th>\n",
       "      <th>column_0</th>\n",
       "      <th>column_1</th>\n",
       "    </tr>\n",
       "  </thead>\n",
       "  <tbody>\n",
       "    <tr>\n",
       "      <th>0</th>\n",
       "      <td>Luke Skywalker\\nAnakinSkywalker</td>\n",
       "      <td>Luke Skywalker, Mark Hamill</td>\n",
       "    </tr>\n",
       "    <tr>\n",
       "      <th>1</th>\n",
       "      <td>None</td>\n",
       "      <td>Anakin Skywalker, Hayden Christensen</td>\n",
       "    </tr>\n",
       "  </tbody>\n",
       "</table>\n",
       "</div>"
      ],
      "text/plain": [
       "                          column_0                              column_1\n",
       "0  Luke Skywalker\\nAnakinSkywalker           Luke Skywalker, Mark Hamill\n",
       "1                             None  Anakin Skywalker, Hayden Christensen"
      ]
     },
     "execution_count": 2,
     "metadata": {},
     "output_type": "execute_result"
    }
   ],
   "source": [
    "messy_data = pd.DataFrame()\n",
    "messy_data[\"column_0\"] = [\"Luke Skywalker\\nAnakinSkywalker\", None]\n",
    "messy_data[\"column_1\"] = [\"Luke Skywalker, Mark Hamill\", \"Anakin Skywalker, Hayden Christensen\"]\n",
    "messy_data"
   ]
  },
  {
   "cell_type": "markdown",
   "metadata": {
    "slideshow": {
     "slide_type": "subslide"
    }
   },
   "source": [
    "## 乾淨資料"
   ]
  },
  {
   "cell_type": "code",
   "execution_count": 3,
   "metadata": {},
   "outputs": [
    {
     "data": {
      "text/html": [
       "<div>\n",
       "<style scoped>\n",
       "    .dataframe tbody tr th:only-of-type {\n",
       "        vertical-align: middle;\n",
       "    }\n",
       "\n",
       "    .dataframe tbody tr th {\n",
       "        vertical-align: top;\n",
       "    }\n",
       "\n",
       "    .dataframe thead th {\n",
       "        text-align: right;\n",
       "    }\n",
       "</style>\n",
       "<table border=\"1\" class=\"dataframe\">\n",
       "  <thead>\n",
       "    <tr style=\"text-align: right;\">\n",
       "      <th></th>\n",
       "      <th>character_first_name</th>\n",
       "      <th>character_last_name</th>\n",
       "      <th>actor_first_name</th>\n",
       "      <th>actor_last_name</th>\n",
       "    </tr>\n",
       "  </thead>\n",
       "  <tbody>\n",
       "    <tr>\n",
       "      <th>0</th>\n",
       "      <td>Luke</td>\n",
       "      <td>Skywalker</td>\n",
       "      <td>Mark</td>\n",
       "      <td>Hamill</td>\n",
       "    </tr>\n",
       "    <tr>\n",
       "      <th>1</th>\n",
       "      <td>Anakin</td>\n",
       "      <td>Skywalker</td>\n",
       "      <td>Hayden</td>\n",
       "      <td>Christensen</td>\n",
       "    </tr>\n",
       "  </tbody>\n",
       "</table>\n",
       "</div>"
      ],
      "text/plain": [
       "  character_first_name character_last_name actor_first_name actor_last_name\n",
       "0                 Luke           Skywalker             Mark          Hamill\n",
       "1               Anakin           Skywalker           Hayden     Christensen"
      ]
     },
     "execution_count": 3,
     "metadata": {},
     "output_type": "execute_result"
    }
   ],
   "source": [
    "tidy_data = pd.DataFrame()\n",
    "tidy_data[\"character_first_name\"] = [\"Luke\", \"Anakin\"]\n",
    "tidy_data[\"character_last_name\"] = [\"Skywalker\", \"Skywalker\"]\n",
    "tidy_data[\"actor_first_name\"] = [\"Mark\", \"Hayden\"]\n",
    "tidy_data[\"actor_last_name\"] = [\"Hamill\", \"Christensen\"]\n",
    "tidy_data"
   ]
  },
  {
   "cell_type": "markdown",
   "metadata": {
    "slideshow": {
     "slide_type": "slide"
    }
   },
   "source": [
    "## 載入資料"
   ]
  },
  {
   "cell_type": "markdown",
   "metadata": {
    "slideshow": {
     "slide_type": "subslide"
    }
   },
   "source": [
    "## 資料來源為中選會選舉資料庫 www.cec.gov.tw\n",
    "\n",
    "- [第15任總統(副總統)選舉](https://db.cec.gov.tw/ElecTable/Election/ElecTickets?dataType=tickets&typeId=ELC&subjectId=P0&legisId=00&themeId=1f7d9f4f6bfe06fdaf4db7df2ed4d60c&dataLevel=N&prvCode=00&cityCode=000&areaCode=00&deptCode=000&liCode=0000)\n",
    "- [第10屆立法委員選舉](https://db.cec.gov.tw/ElecTable/Election/ElecTickets?dataType=areas&typeId=ELC&subjectId=L0&legisId=L1&themeId=be404784efb488c1004009663c892e18&dataLevel=C&prvCode=00&cityCode=000&areaCode=00&deptCode=000&liCode=0000)"
   ]
  },
  {
   "cell_type": "markdown",
   "metadata": {
    "slideshow": {
     "slide_type": "subslide"
    }
   },
   "source": [
    "## 原始資料格式為試算表\n",
    "\n",
    "我們可以使用 `pd.read_excel()` 函數載入資料。"
   ]
  },
  {
   "cell_type": "markdown",
   "metadata": {
    "slideshow": {
     "slide_type": "subslide"
    }
   },
   "source": [
    "## 以臺北市的資料為例"
   ]
  },
  {
   "cell_type": "code",
   "execution_count": 4,
   "metadata": {
    "slideshow": {
     "slide_type": "-"
    }
   },
   "outputs": [
    {
     "name": "stdout",
     "output_type": "stream",
     "text": [
      "['臺北市']\n"
     ]
    }
   ],
   "source": [
    "file_name = \"總統-A05-4-候選人得票數一覽表-各投開票所(臺北市).xls\"\n",
    "spreadsheet_path = \"總統-各投票所得票明細及概況(Excel檔)/{}\".format(file_name)\n",
    "xl = pd.ExcelFile(spreadsheet_path)\n",
    "print(xl.sheet_names)"
   ]
  },
  {
   "cell_type": "code",
   "execution_count": 5,
   "metadata": {
    "slideshow": {
     "slide_type": "subslide"
    }
   },
   "outputs": [
    {
     "data": {
      "text/html": [
       "<div>\n",
       "<style scoped>\n",
       "    .dataframe tbody tr th:only-of-type {\n",
       "        vertical-align: middle;\n",
       "    }\n",
       "\n",
       "    .dataframe tbody tr th {\n",
       "        vertical-align: top;\n",
       "    }\n",
       "\n",
       "    .dataframe thead th {\n",
       "        text-align: right;\n",
       "    }\n",
       "</style>\n",
       "<table border=\"1\" class=\"dataframe\">\n",
       "  <thead>\n",
       "    <tr style=\"text-align: right;\">\n",
       "      <th></th>\n",
       "      <th>第15任總統副總統選舉候選人在臺北市各投開票所得票數一覽表</th>\n",
       "      <th>Unnamed: 1</th>\n",
       "      <th>Unnamed: 2</th>\n",
       "      <th>Unnamed: 3</th>\n",
       "      <th>Unnamed: 4</th>\n",
       "      <th>Unnamed: 5</th>\n",
       "      <th>Unnamed: 6</th>\n",
       "      <th>Unnamed: 7</th>\n",
       "      <th>Unnamed: 8</th>\n",
       "      <th>Unnamed: 9</th>\n",
       "      <th>Unnamed: 10</th>\n",
       "      <th>Unnamed: 11</th>\n",
       "      <th>Unnamed: 12</th>\n",
       "      <th>Unnamed: 13</th>\n",
       "    </tr>\n",
       "  </thead>\n",
       "  <tbody>\n",
       "    <tr>\n",
       "      <th>0</th>\n",
       "      <td>鄉(鎮、市、區)別</td>\n",
       "      <td>村里別</td>\n",
       "      <td>投票所別</td>\n",
       "      <td>各組候選人得票情形</td>\n",
       "      <td>NaN</td>\n",
       "      <td>NaN</td>\n",
       "      <td>有效票數A\\nA=1+2+...+N</td>\n",
       "      <td>無效票數B</td>\n",
       "      <td>投票數C\\nC=A+B</td>\n",
       "      <td>已領未投票數\\nD\\nD=E-C</td>\n",
       "      <td>發出票數E\\nE=C+D</td>\n",
       "      <td>用餘票數F</td>\n",
       "      <td>選舉人數G\\nG=E+F</td>\n",
       "      <td>投票率H\\nH=C÷G</td>\n",
       "    </tr>\n",
       "    <tr>\n",
       "      <th>1</th>\n",
       "      <td>NaN</td>\n",
       "      <td>NaN</td>\n",
       "      <td>NaN</td>\n",
       "      <td>(1)\\n宋楚瑜\\n余湘</td>\n",
       "      <td>(2)\\n韓國瑜\\n張善政</td>\n",
       "      <td>(3)\\n蔡英文\\n賴清德</td>\n",
       "      <td>NaN</td>\n",
       "      <td>NaN</td>\n",
       "      <td>NaN</td>\n",
       "      <td>NaN</td>\n",
       "      <td>NaN</td>\n",
       "      <td>NaN</td>\n",
       "      <td>NaN</td>\n",
       "      <td>NaN</td>\n",
       "    </tr>\n",
       "    <tr>\n",
       "      <th>2</th>\n",
       "      <td>NaN</td>\n",
       "      <td>NaN</td>\n",
       "      <td>NaN</td>\n",
       "      <td>NaN</td>\n",
       "      <td>NaN</td>\n",
       "      <td>NaN</td>\n",
       "      <td>NaN</td>\n",
       "      <td>NaN</td>\n",
       "      <td>NaN</td>\n",
       "      <td>NaN</td>\n",
       "      <td>NaN</td>\n",
       "      <td>NaN</td>\n",
       "      <td>NaN</td>\n",
       "      <td>NaN</td>\n",
       "    </tr>\n",
       "    <tr>\n",
       "      <th>3</th>\n",
       "      <td>NaN</td>\n",
       "      <td>NaN</td>\n",
       "      <td>NaN</td>\n",
       "      <td>NaN</td>\n",
       "      <td>NaN</td>\n",
       "      <td>NaN</td>\n",
       "      <td>NaN</td>\n",
       "      <td>NaN</td>\n",
       "      <td>NaN</td>\n",
       "      <td>NaN</td>\n",
       "      <td>NaN</td>\n",
       "      <td>NaN</td>\n",
       "      <td>NaN</td>\n",
       "      <td>NaN</td>\n",
       "    </tr>\n",
       "    <tr>\n",
       "      <th>4</th>\n",
       "      <td>總　計</td>\n",
       "      <td>NaN</td>\n",
       "      <td>NaN</td>\n",
       "      <td>70,769</td>\n",
       "      <td>685,830</td>\n",
       "      <td>875,854</td>\n",
       "      <td>1,632,453</td>\n",
       "      <td>21,381</td>\n",
       "      <td>1,653,834</td>\n",
       "      <td>143</td>\n",
       "      <td>1,653,977</td>\n",
       "      <td>513,287</td>\n",
       "      <td>2,167,264</td>\n",
       "      <td>76.3098</td>\n",
       "    </tr>\n",
       "  </tbody>\n",
       "</table>\n",
       "</div>"
      ],
      "text/plain": [
       "  第15任總統副總統選舉候選人在臺北市各投開票所得票數一覽表 Unnamed: 1 Unnamed: 2    Unnamed: 3  \\\n",
       "0                     鄉(鎮、市、區)別        村里別       投票所別     各組候選人得票情形   \n",
       "1                           NaN        NaN        NaN  (1)\\n宋楚瑜\\n余湘   \n",
       "2                           NaN        NaN        NaN           NaN   \n",
       "3                           NaN        NaN        NaN           NaN   \n",
       "4                           總　計        NaN        NaN        70,769   \n",
       "\n",
       "      Unnamed: 4     Unnamed: 5          Unnamed: 6 Unnamed: 7   Unnamed: 8  \\\n",
       "0            NaN            NaN  有效票數A\\nA=1+2+...+N      無效票數B  投票數C\\nC=A+B   \n",
       "1  (2)\\n韓國瑜\\n張善政  (3)\\n蔡英文\\n賴清德                 NaN        NaN          NaN   \n",
       "2            NaN            NaN                 NaN        NaN          NaN   \n",
       "3            NaN            NaN                 NaN        NaN          NaN   \n",
       "4        685,830        875,854           1,632,453     21,381    1,653,834   \n",
       "\n",
       "         Unnamed: 9   Unnamed: 10 Unnamed: 11   Unnamed: 12  Unnamed: 13  \n",
       "0  已領未投票數\\nD\\nD=E-C  發出票數E\\nE=C+D       用餘票數F  選舉人數G\\nG=E+F  投票率H\\nH=C÷G  \n",
       "1               NaN           NaN         NaN           NaN          NaN  \n",
       "2               NaN           NaN         NaN           NaN          NaN  \n",
       "3               NaN           NaN         NaN           NaN          NaN  \n",
       "4               143     1,653,977     513,287     2,167,264      76.3098  "
      ]
     },
     "execution_count": 5,
     "metadata": {},
     "output_type": "execute_result"
    }
   ],
   "source": [
    "df = pd.read_excel(spreadsheet_path)\n",
    "df.head()"
   ]
  },
  {
   "cell_type": "markdown",
   "metadata": {
    "slideshow": {
     "slide_type": "subslide"
    }
   },
   "source": [
    "## 載入臺北市的區域立委資料\n",
    "\n",
    "- 區域立委的試算表比較複雜，因為每個縣市中可能有多個選區。\n",
    "- 載入前先檢查活頁簿中的試算表清單。"
   ]
  },
  {
   "cell_type": "code",
   "execution_count": 6,
   "metadata": {
    "slideshow": {
     "slide_type": "-"
    }
   },
   "outputs": [
    {
     "name": "stdout",
     "output_type": "stream",
     "text": [
      "['臺北市第1選舉區', '臺北市第2選舉區', '臺北市第3選舉區', '臺北市第4選舉區', '臺北市第5選舉區', '臺北市第6選舉區', '臺北市第7選舉區', '臺北市第8選舉區']\n"
     ]
    }
   ],
   "source": [
    "file_name = \"區域立委-A05-2-得票數一覽表(臺北市).xls\"\n",
    "spreadsheet_path = \"立委-各投票所得票明細及概況(Excel檔)/{}\".format(file_name)\n",
    "xl = pd.ExcelFile(spreadsheet_path)\n",
    "print(xl.sheet_names)"
   ]
  },
  {
   "cell_type": "markdown",
   "metadata": {
    "slideshow": {
     "slide_type": "subslide"
    }
   },
   "source": [
    "## 透過 `sheet_name` 參數指定要載入活頁簿中的哪一個試算表"
   ]
  },
  {
   "cell_type": "code",
   "execution_count": 7,
   "metadata": {
    "slideshow": {
     "slide_type": "-"
    }
   },
   "outputs": [
    {
     "name": "stdout",
     "output_type": "stream",
     "text": [
      "Shape of 臺北市第1選舉區 : (219, 18)\n",
      "Shape of 臺北市第2選舉區 : (224, 17)\n",
      "Shape of 臺北市第3選舉區 : (233, 15)\n",
      "Shape of 臺北市第4選舉區 : (248, 18)\n",
      "Shape of 臺北市第5選舉區 : (225, 19)\n",
      "Shape of 臺北市第6選舉區 : (200, 21)\n",
      "Shape of 臺北市第7選舉區 : (222, 16)\n",
      "Shape of 臺北市第8選舉區 : (212, 20)\n"
     ]
    }
   ],
   "source": [
    "regional_legislator_taipei_city = {}\n",
    "for sheet_name in xl.sheet_names:\n",
    "    regional_legislator_taipei_city[sheet_name] = pd.read_excel(spreadsheet_path, sheet_name=sheet_name)\n",
    "for k, v in regional_legislator_taipei_city.items():\n",
    "    print(\"Shape of {} : {}\".format(k, v.shape))"
   ]
  },
  {
   "cell_type": "code",
   "execution_count": 8,
   "metadata": {
    "slideshow": {
     "slide_type": "subslide"
    }
   },
   "outputs": [
    {
     "name": "stdout",
     "output_type": "stream",
     "text": [
      "['臺北市']\n"
     ]
    }
   ],
   "source": [
    "file_name = \"不分區立委-A05-6-得票數一覽表(臺北市).xls\"\n",
    "spreadsheet_path = \"立委-各投票所得票明細及概況(Excel檔)/{}\".format(file_name)\n",
    "xl = pd.ExcelFile(spreadsheet_path)\n",
    "print(xl.sheet_names)"
   ]
  },
  {
   "cell_type": "code",
   "execution_count": 9,
   "metadata": {
    "slideshow": {
     "slide_type": "subslide"
    }
   },
   "outputs": [
    {
     "name": "stdout",
     "output_type": "stream",
     "text": [
      "['臺北市']\n"
     ]
    }
   ],
   "source": [
    "file_name = \"山地立委-A05-4-得票數一覽表(臺北市).xls\"\n",
    "spreadsheet_path = \"立委-各投票所得票明細及概況(Excel檔)/{}\".format(file_name)\n",
    "xl = pd.ExcelFile(spreadsheet_path)\n",
    "print(xl.sheet_names)"
   ]
  },
  {
   "cell_type": "code",
   "execution_count": 10,
   "metadata": {
    "slideshow": {
     "slide_type": "subslide"
    }
   },
   "outputs": [
    {
     "name": "stdout",
     "output_type": "stream",
     "text": [
      "['臺北市']\n"
     ]
    }
   ],
   "source": [
    "file_name = \"平地立委-A05-4-得票數一覽表(臺北市).xls\"\n",
    "spreadsheet_path = \"立委-各投票所得票明細及概況(Excel檔)/{}\".format(file_name)\n",
    "xl = pd.ExcelFile(spreadsheet_path)\n",
    "print(xl.sheet_names)"
   ]
  },
  {
   "cell_type": "markdown",
   "metadata": {
    "slideshow": {
     "slide_type": "slide"
    }
   },
   "source": [
    "## 資料清理"
   ]
  },
  {
   "cell_type": "markdown",
   "metadata": {
    "slideshow": {
     "slide_type": "subslide"
    }
   },
   "source": [
    "## 哪些因素使得原本的試算表不是「乾淨資料」？\n",
    "\n",
    "- 合併儲存格。\n",
    "- 未定義值、遺漏值。\n",
    "- 在觀測值中參雜了「小計」與「總計」。\n",
    "- 資料值（候選人、政黨）記錄在變數名稱中。"
   ]
  },
  {
   "cell_type": "markdown",
   "metadata": {
    "slideshow": {
     "slide_type": "subslide"
    }
   },
   "source": [
    "## 載入試算表時使用 `skiprows` 參數略過合併儲存格"
   ]
  },
  {
   "cell_type": "code",
   "execution_count": 11,
   "metadata": {},
   "outputs": [],
   "source": [
    "file_name = \"總統-A05-4-候選人得票數一覽表-各投開票所(臺北市).xls\"\n",
    "spreadsheet_path = \"總統-各投票所得票明細及概況(Excel檔)/{}\".format(file_name)\n",
    "df = pd.read_excel(spreadsheet_path, skiprows=[0, 1, 3, 4], thousands=',')"
   ]
  },
  {
   "cell_type": "code",
   "execution_count": 12,
   "metadata": {
    "slideshow": {
     "slide_type": "subslide"
    }
   },
   "outputs": [
    {
     "data": {
      "text/html": [
       "<div>\n",
       "<style scoped>\n",
       "    .dataframe tbody tr th:only-of-type {\n",
       "        vertical-align: middle;\n",
       "    }\n",
       "\n",
       "    .dataframe tbody tr th {\n",
       "        vertical-align: top;\n",
       "    }\n",
       "\n",
       "    .dataframe thead th {\n",
       "        text-align: right;\n",
       "    }\n",
       "</style>\n",
       "<table border=\"1\" class=\"dataframe\">\n",
       "  <thead>\n",
       "    <tr style=\"text-align: right;\">\n",
       "      <th></th>\n",
       "      <th>Unnamed: 0</th>\n",
       "      <th>Unnamed: 1</th>\n",
       "      <th>Unnamed: 2</th>\n",
       "      <th>(1)\\n宋楚瑜\\n余湘</th>\n",
       "      <th>(2)\\n韓國瑜\\n張善政</th>\n",
       "      <th>(3)\\n蔡英文\\n賴清德</th>\n",
       "      <th>Unnamed: 6</th>\n",
       "      <th>Unnamed: 7</th>\n",
       "      <th>Unnamed: 8</th>\n",
       "      <th>Unnamed: 9</th>\n",
       "      <th>Unnamed: 10</th>\n",
       "      <th>Unnamed: 11</th>\n",
       "      <th>Unnamed: 12</th>\n",
       "      <th>Unnamed: 13</th>\n",
       "    </tr>\n",
       "  </thead>\n",
       "  <tbody>\n",
       "    <tr>\n",
       "      <th>0</th>\n",
       "      <td>總　計</td>\n",
       "      <td>NaN</td>\n",
       "      <td>NaN</td>\n",
       "      <td>70769</td>\n",
       "      <td>685830</td>\n",
       "      <td>875854</td>\n",
       "      <td>1632453</td>\n",
       "      <td>21381</td>\n",
       "      <td>1653834</td>\n",
       "      <td>143</td>\n",
       "      <td>1653977</td>\n",
       "      <td>513287</td>\n",
       "      <td>2167264</td>\n",
       "      <td>76.3098</td>\n",
       "    </tr>\n",
       "    <tr>\n",
       "      <th>1</th>\n",
       "      <td>松山區</td>\n",
       "      <td>NaN</td>\n",
       "      <td>NaN</td>\n",
       "      <td>5436</td>\n",
       "      <td>55918</td>\n",
       "      <td>64207</td>\n",
       "      <td>125561</td>\n",
       "      <td>1762</td>\n",
       "      <td>127323</td>\n",
       "      <td>2</td>\n",
       "      <td>127325</td>\n",
       "      <td>37329</td>\n",
       "      <td>164654</td>\n",
       "      <td>77.3276</td>\n",
       "    </tr>\n",
       "    <tr>\n",
       "      <th>2</th>\n",
       "      <td>NaN</td>\n",
       "      <td>莊敬里</td>\n",
       "      <td>573.0</td>\n",
       "      <td>36</td>\n",
       "      <td>391</td>\n",
       "      <td>429</td>\n",
       "      <td>856</td>\n",
       "      <td>14</td>\n",
       "      <td>870</td>\n",
       "      <td>0</td>\n",
       "      <td>870</td>\n",
       "      <td>230</td>\n",
       "      <td>1100</td>\n",
       "      <td>79.0909</td>\n",
       "    </tr>\n",
       "    <tr>\n",
       "      <th>3</th>\n",
       "      <td>NaN</td>\n",
       "      <td>莊敬里</td>\n",
       "      <td>574.0</td>\n",
       "      <td>46</td>\n",
       "      <td>382</td>\n",
       "      <td>438</td>\n",
       "      <td>866</td>\n",
       "      <td>12</td>\n",
       "      <td>878</td>\n",
       "      <td>0</td>\n",
       "      <td>878</td>\n",
       "      <td>259</td>\n",
       "      <td>1137</td>\n",
       "      <td>77.2208</td>\n",
       "    </tr>\n",
       "    <tr>\n",
       "      <th>4</th>\n",
       "      <td>NaN</td>\n",
       "      <td>莊敬里</td>\n",
       "      <td>575.0</td>\n",
       "      <td>48</td>\n",
       "      <td>393</td>\n",
       "      <td>389</td>\n",
       "      <td>830</td>\n",
       "      <td>22</td>\n",
       "      <td>852</td>\n",
       "      <td>0</td>\n",
       "      <td>852</td>\n",
       "      <td>262</td>\n",
       "      <td>1114</td>\n",
       "      <td>76.4811</td>\n",
       "    </tr>\n",
       "  </tbody>\n",
       "</table>\n",
       "</div>"
      ],
      "text/plain": [
       "  Unnamed: 0 Unnamed: 1  Unnamed: 2  (1)\\n宋楚瑜\\n余湘  (2)\\n韓國瑜\\n張善政  \\\n",
       "0        總　計        NaN         NaN         70769         685830   \n",
       "1       　松山區        NaN         NaN          5436          55918   \n",
       "2        NaN        莊敬里       573.0            36            391   \n",
       "3        NaN        莊敬里       574.0            46            382   \n",
       "4        NaN        莊敬里       575.0            48            393   \n",
       "\n",
       "   (3)\\n蔡英文\\n賴清德  Unnamed: 6  Unnamed: 7  Unnamed: 8  Unnamed: 9  Unnamed: 10  \\\n",
       "0         875854     1632453       21381     1653834         143      1653977   \n",
       "1          64207      125561        1762      127323           2       127325   \n",
       "2            429         856          14         870           0          870   \n",
       "3            438         866          12         878           0          878   \n",
       "4            389         830          22         852           0          852   \n",
       "\n",
       "   Unnamed: 11  Unnamed: 12  Unnamed: 13  \n",
       "0       513287      2167264      76.3098  \n",
       "1        37329       164654      77.3276  \n",
       "2          230         1100      79.0909  \n",
       "3          259         1137      77.2208  \n",
       "4          262         1114      76.4811  "
      ]
     },
     "execution_count": 12,
     "metadata": {},
     "output_type": "execute_result"
    }
   ],
   "source": [
    "df.head()"
   ]
  },
  {
   "cell_type": "markdown",
   "metadata": {
    "slideshow": {
     "slide_type": "subslide"
    }
   },
   "source": [
    "## 更新資料框的 `columns` 屬性"
   ]
  },
  {
   "cell_type": "code",
   "execution_count": 13,
   "metadata": {},
   "outputs": [],
   "source": [
    "n_cols = df.columns.size\n",
    "n_candidates = n_cols - 11\n",
    "id_vars = ['town', 'village', 'office']\n",
    "candidates = list(df.columns[3:(3 + n_candidates)])\n",
    "office_cols = list(ascii_uppercase[:8])\n",
    "col_names = id_vars + candidates + office_cols\n",
    "df.columns = col_names"
   ]
  },
  {
   "cell_type": "code",
   "execution_count": 14,
   "metadata": {
    "slideshow": {
     "slide_type": "subslide"
    }
   },
   "outputs": [
    {
     "name": "stdout",
     "output_type": "stream",
     "text": [
      "3\n",
      "['(1)\\n宋楚瑜\\n余湘', '(2)\\n韓國瑜\\n張善政', '(3)\\n蔡英文\\n賴清德']\n",
      "['A', 'B', 'C', 'D', 'E', 'F', 'G', 'H']\n",
      "['town', 'village', 'office', '(1)\\n宋楚瑜\\n余湘', '(2)\\n韓國瑜\\n張善政', '(3)\\n蔡英文\\n賴清德', 'A', 'B', 'C', 'D', 'E', 'F', 'G', 'H']\n"
     ]
    }
   ],
   "source": [
    "print(n_candidates)\n",
    "print(candidates)\n",
    "print(office_cols)\n",
    "print(col_names)"
   ]
  },
  {
   "cell_type": "markdown",
   "metadata": {
    "slideshow": {
     "slide_type": "subslide"
    }
   },
   "source": [
    "## 使用 `df.fillna()` 方法前向填補 `town` 欄位中的未定義值\n",
    "\n",
    "`ffill` 參數：利用前一個有效值填補未定義值，直到下一個有效值。"
   ]
  },
  {
   "cell_type": "code",
   "execution_count": 15,
   "metadata": {},
   "outputs": [
    {
     "data": {
      "text/html": [
       "<div>\n",
       "<style scoped>\n",
       "    .dataframe tbody tr th:only-of-type {\n",
       "        vertical-align: middle;\n",
       "    }\n",
       "\n",
       "    .dataframe tbody tr th {\n",
       "        vertical-align: top;\n",
       "    }\n",
       "\n",
       "    .dataframe thead th {\n",
       "        text-align: right;\n",
       "    }\n",
       "</style>\n",
       "<table border=\"1\" class=\"dataframe\">\n",
       "  <thead>\n",
       "    <tr style=\"text-align: right;\">\n",
       "      <th></th>\n",
       "      <th>town</th>\n",
       "      <th>village</th>\n",
       "      <th>office</th>\n",
       "      <th>(1)\\n宋楚瑜\\n余湘</th>\n",
       "      <th>(2)\\n韓國瑜\\n張善政</th>\n",
       "      <th>(3)\\n蔡英文\\n賴清德</th>\n",
       "      <th>A</th>\n",
       "      <th>B</th>\n",
       "      <th>C</th>\n",
       "      <th>D</th>\n",
       "      <th>E</th>\n",
       "      <th>F</th>\n",
       "      <th>G</th>\n",
       "      <th>H</th>\n",
       "    </tr>\n",
       "  </thead>\n",
       "  <tbody>\n",
       "    <tr>\n",
       "      <th>0</th>\n",
       "      <td>總　計</td>\n",
       "      <td>NaN</td>\n",
       "      <td>NaN</td>\n",
       "      <td>70769</td>\n",
       "      <td>685830</td>\n",
       "      <td>875854</td>\n",
       "      <td>1632453</td>\n",
       "      <td>21381</td>\n",
       "      <td>1653834</td>\n",
       "      <td>143</td>\n",
       "      <td>1653977</td>\n",
       "      <td>513287</td>\n",
       "      <td>2167264</td>\n",
       "      <td>76.3098</td>\n",
       "    </tr>\n",
       "    <tr>\n",
       "      <th>1</th>\n",
       "      <td>松山區</td>\n",
       "      <td>NaN</td>\n",
       "      <td>NaN</td>\n",
       "      <td>5436</td>\n",
       "      <td>55918</td>\n",
       "      <td>64207</td>\n",
       "      <td>125561</td>\n",
       "      <td>1762</td>\n",
       "      <td>127323</td>\n",
       "      <td>2</td>\n",
       "      <td>127325</td>\n",
       "      <td>37329</td>\n",
       "      <td>164654</td>\n",
       "      <td>77.3276</td>\n",
       "    </tr>\n",
       "    <tr>\n",
       "      <th>2</th>\n",
       "      <td>松山區</td>\n",
       "      <td>莊敬里</td>\n",
       "      <td>573.0</td>\n",
       "      <td>36</td>\n",
       "      <td>391</td>\n",
       "      <td>429</td>\n",
       "      <td>856</td>\n",
       "      <td>14</td>\n",
       "      <td>870</td>\n",
       "      <td>0</td>\n",
       "      <td>870</td>\n",
       "      <td>230</td>\n",
       "      <td>1100</td>\n",
       "      <td>79.0909</td>\n",
       "    </tr>\n",
       "    <tr>\n",
       "      <th>3</th>\n",
       "      <td>松山區</td>\n",
       "      <td>莊敬里</td>\n",
       "      <td>574.0</td>\n",
       "      <td>46</td>\n",
       "      <td>382</td>\n",
       "      <td>438</td>\n",
       "      <td>866</td>\n",
       "      <td>12</td>\n",
       "      <td>878</td>\n",
       "      <td>0</td>\n",
       "      <td>878</td>\n",
       "      <td>259</td>\n",
       "      <td>1137</td>\n",
       "      <td>77.2208</td>\n",
       "    </tr>\n",
       "    <tr>\n",
       "      <th>4</th>\n",
       "      <td>松山區</td>\n",
       "      <td>莊敬里</td>\n",
       "      <td>575.0</td>\n",
       "      <td>48</td>\n",
       "      <td>393</td>\n",
       "      <td>389</td>\n",
       "      <td>830</td>\n",
       "      <td>22</td>\n",
       "      <td>852</td>\n",
       "      <td>0</td>\n",
       "      <td>852</td>\n",
       "      <td>262</td>\n",
       "      <td>1114</td>\n",
       "      <td>76.4811</td>\n",
       "    </tr>\n",
       "  </tbody>\n",
       "</table>\n",
       "</div>"
      ],
      "text/plain": [
       "   town village  office  (1)\\n宋楚瑜\\n余湘  (2)\\n韓國瑜\\n張善政  (3)\\n蔡英文\\n賴清德        A  \\\n",
       "0   總　計     NaN     NaN         70769         685830         875854  1632453   \n",
       "1  　松山區     NaN     NaN          5436          55918          64207   125561   \n",
       "2  　松山區     莊敬里   573.0            36            391            429      856   \n",
       "3  　松山區     莊敬里   574.0            46            382            438      866   \n",
       "4  　松山區     莊敬里   575.0            48            393            389      830   \n",
       "\n",
       "       B        C    D        E       F        G        H  \n",
       "0  21381  1653834  143  1653977  513287  2167264  76.3098  \n",
       "1   1762   127323    2   127325   37329   164654  77.3276  \n",
       "2     14      870    0      870     230     1100  79.0909  \n",
       "3     12      878    0      878     259     1137  77.2208  \n",
       "4     22      852    0      852     262     1114  76.4811  "
      ]
     },
     "execution_count": 15,
     "metadata": {},
     "output_type": "execute_result"
    }
   ],
   "source": [
    "filled_towns = df['town'].fillna(method='ffill')\n",
    "df = df.assign(town=filled_towns)\n",
    "df.head()"
   ]
  },
  {
   "cell_type": "markdown",
   "metadata": {
    "slideshow": {
     "slide_type": "subslide"
    }
   },
   "source": [
    "## 使用 `df.dropna()` 移除「小計」與「總計」\n",
    "\n",
    "- 遵循「乾淨資料」法則。\n",
    "- 避免錯誤的加總。"
   ]
  },
  {
   "cell_type": "code",
   "execution_count": 16,
   "metadata": {},
   "outputs": [
    {
     "data": {
      "text/html": [
       "<div>\n",
       "<style scoped>\n",
       "    .dataframe tbody tr th:only-of-type {\n",
       "        vertical-align: middle;\n",
       "    }\n",
       "\n",
       "    .dataframe tbody tr th {\n",
       "        vertical-align: top;\n",
       "    }\n",
       "\n",
       "    .dataframe thead th {\n",
       "        text-align: right;\n",
       "    }\n",
       "</style>\n",
       "<table border=\"1\" class=\"dataframe\">\n",
       "  <thead>\n",
       "    <tr style=\"text-align: right;\">\n",
       "      <th></th>\n",
       "      <th>town</th>\n",
       "      <th>village</th>\n",
       "      <th>office</th>\n",
       "      <th>(1)\\n宋楚瑜\\n余湘</th>\n",
       "      <th>(2)\\n韓國瑜\\n張善政</th>\n",
       "      <th>(3)\\n蔡英文\\n賴清德</th>\n",
       "      <th>A</th>\n",
       "      <th>B</th>\n",
       "      <th>C</th>\n",
       "      <th>D</th>\n",
       "      <th>E</th>\n",
       "      <th>F</th>\n",
       "      <th>G</th>\n",
       "      <th>H</th>\n",
       "    </tr>\n",
       "  </thead>\n",
       "  <tbody>\n",
       "    <tr>\n",
       "      <th>2</th>\n",
       "      <td>松山區</td>\n",
       "      <td>莊敬里</td>\n",
       "      <td>573.0</td>\n",
       "      <td>36</td>\n",
       "      <td>391</td>\n",
       "      <td>429</td>\n",
       "      <td>856</td>\n",
       "      <td>14</td>\n",
       "      <td>870</td>\n",
       "      <td>0</td>\n",
       "      <td>870</td>\n",
       "      <td>230</td>\n",
       "      <td>1100</td>\n",
       "      <td>79.0909</td>\n",
       "    </tr>\n",
       "    <tr>\n",
       "      <th>3</th>\n",
       "      <td>松山區</td>\n",
       "      <td>莊敬里</td>\n",
       "      <td>574.0</td>\n",
       "      <td>46</td>\n",
       "      <td>382</td>\n",
       "      <td>438</td>\n",
       "      <td>866</td>\n",
       "      <td>12</td>\n",
       "      <td>878</td>\n",
       "      <td>0</td>\n",
       "      <td>878</td>\n",
       "      <td>259</td>\n",
       "      <td>1137</td>\n",
       "      <td>77.2208</td>\n",
       "    </tr>\n",
       "    <tr>\n",
       "      <th>4</th>\n",
       "      <td>松山區</td>\n",
       "      <td>莊敬里</td>\n",
       "      <td>575.0</td>\n",
       "      <td>48</td>\n",
       "      <td>393</td>\n",
       "      <td>389</td>\n",
       "      <td>830</td>\n",
       "      <td>22</td>\n",
       "      <td>852</td>\n",
       "      <td>0</td>\n",
       "      <td>852</td>\n",
       "      <td>262</td>\n",
       "      <td>1114</td>\n",
       "      <td>76.4811</td>\n",
       "    </tr>\n",
       "    <tr>\n",
       "      <th>5</th>\n",
       "      <td>松山區</td>\n",
       "      <td>莊敬里</td>\n",
       "      <td>576.0</td>\n",
       "      <td>43</td>\n",
       "      <td>389</td>\n",
       "      <td>462</td>\n",
       "      <td>894</td>\n",
       "      <td>14</td>\n",
       "      <td>908</td>\n",
       "      <td>0</td>\n",
       "      <td>908</td>\n",
       "      <td>271</td>\n",
       "      <td>1179</td>\n",
       "      <td>77.0144</td>\n",
       "    </tr>\n",
       "    <tr>\n",
       "      <th>6</th>\n",
       "      <td>松山區</td>\n",
       "      <td>東榮里</td>\n",
       "      <td>577.0</td>\n",
       "      <td>38</td>\n",
       "      <td>431</td>\n",
       "      <td>545</td>\n",
       "      <td>1014</td>\n",
       "      <td>18</td>\n",
       "      <td>1032</td>\n",
       "      <td>0</td>\n",
       "      <td>1032</td>\n",
       "      <td>272</td>\n",
       "      <td>1304</td>\n",
       "      <td>79.1411</td>\n",
       "    </tr>\n",
       "  </tbody>\n",
       "</table>\n",
       "</div>"
      ],
      "text/plain": [
       "   town village  office  (1)\\n宋楚瑜\\n余湘  (2)\\n韓國瑜\\n張善政  (3)\\n蔡英文\\n賴清德     A   B  \\\n",
       "2  　松山區     莊敬里   573.0            36            391            429   856  14   \n",
       "3  　松山區     莊敬里   574.0            46            382            438   866  12   \n",
       "4  　松山區     莊敬里   575.0            48            393            389   830  22   \n",
       "5  　松山區     莊敬里   576.0            43            389            462   894  14   \n",
       "6  　松山區     東榮里   577.0            38            431            545  1014  18   \n",
       "\n",
       "      C  D     E    F     G        H  \n",
       "2   870  0   870  230  1100  79.0909  \n",
       "3   878  0   878  259  1137  77.2208  \n",
       "4   852  0   852  262  1114  76.4811  \n",
       "5   908  0   908  271  1179  77.0144  \n",
       "6  1032  0  1032  272  1304  79.1411  "
      ]
     },
     "execution_count": 16,
     "metadata": {},
     "output_type": "execute_result"
    }
   ],
   "source": [
    "df = df.dropna()\n",
    "df.head()"
   ]
  },
  {
   "cell_type": "markdown",
   "metadata": {
    "slideshow": {
     "slide_type": "subslide"
    }
   },
   "source": [
    "## 使用 `str.replace()` 方法取代多餘的特殊文字 `\"\\u3000\"`"
   ]
  },
  {
   "cell_type": "code",
   "execution_count": 17,
   "metadata": {},
   "outputs": [
    {
     "name": "stdout",
     "output_type": "stream",
     "text": [
      "['\\u3000松山區' '\\u3000信義區' '\\u3000大安區' '\\u3000中山區' '\\u3000中正區' '\\u3000大同區'\n",
      " '\\u3000萬華區' '\\u3000文山區' '\\u3000南港區' '\\u3000內湖區' '\\u3000士林區' '\\u3000北投區']\n",
      "['松山區' '信義區' '大安區' '中山區' '中正區' '大同區' '萬華區' '文山區' '南港區' '內湖區' '士林區' '北投區']\n"
     ]
    }
   ],
   "source": [
    "print(df['town'].unique())\n",
    "stripped_strict = df['town'].str.replace(\"\\u3000\", \"\")\n",
    "df = df.assign(town=stripped_strict)\n",
    "print(df['town'].unique())"
   ]
  },
  {
   "cell_type": "markdown",
   "metadata": {
    "slideshow": {
     "slide_type": "subslide"
    }
   },
   "source": [
    "## 使用 `pd.melt()` 函數轉置資料框"
   ]
  },
  {
   "cell_type": "code",
   "execution_count": 18,
   "metadata": {},
   "outputs": [
    {
     "data": {
      "text/html": [
       "<div>\n",
       "<style scoped>\n",
       "    .dataframe tbody tr th:only-of-type {\n",
       "        vertical-align: middle;\n",
       "    }\n",
       "\n",
       "    .dataframe tbody tr th {\n",
       "        vertical-align: top;\n",
       "    }\n",
       "\n",
       "    .dataframe thead th {\n",
       "        text-align: right;\n",
       "    }\n",
       "</style>\n",
       "<table border=\"1\" class=\"dataframe\">\n",
       "  <thead>\n",
       "    <tr style=\"text-align: right;\">\n",
       "      <th></th>\n",
       "      <th>town</th>\n",
       "      <th>village</th>\n",
       "      <th>office</th>\n",
       "      <th>candidate_info</th>\n",
       "      <th>votes</th>\n",
       "    </tr>\n",
       "  </thead>\n",
       "  <tbody>\n",
       "    <tr>\n",
       "      <th>0</th>\n",
       "      <td>松山區</td>\n",
       "      <td>莊敬里</td>\n",
       "      <td>573.0</td>\n",
       "      <td>(1)\\n宋楚瑜\\n余湘</td>\n",
       "      <td>36</td>\n",
       "    </tr>\n",
       "    <tr>\n",
       "      <th>1</th>\n",
       "      <td>松山區</td>\n",
       "      <td>莊敬里</td>\n",
       "      <td>574.0</td>\n",
       "      <td>(1)\\n宋楚瑜\\n余湘</td>\n",
       "      <td>46</td>\n",
       "    </tr>\n",
       "    <tr>\n",
       "      <th>2</th>\n",
       "      <td>松山區</td>\n",
       "      <td>莊敬里</td>\n",
       "      <td>575.0</td>\n",
       "      <td>(1)\\n宋楚瑜\\n余湘</td>\n",
       "      <td>48</td>\n",
       "    </tr>\n",
       "    <tr>\n",
       "      <th>3</th>\n",
       "      <td>松山區</td>\n",
       "      <td>莊敬里</td>\n",
       "      <td>576.0</td>\n",
       "      <td>(1)\\n宋楚瑜\\n余湘</td>\n",
       "      <td>43</td>\n",
       "    </tr>\n",
       "    <tr>\n",
       "      <th>4</th>\n",
       "      <td>松山區</td>\n",
       "      <td>東榮里</td>\n",
       "      <td>577.0</td>\n",
       "      <td>(1)\\n宋楚瑜\\n余湘</td>\n",
       "      <td>38</td>\n",
       "    </tr>\n",
       "  </tbody>\n",
       "</table>\n",
       "</div>"
      ],
      "text/plain": [
       "  town village  office candidate_info  votes\n",
       "0  松山區     莊敬里   573.0   (1)\\n宋楚瑜\\n余湘     36\n",
       "1  松山區     莊敬里   574.0   (1)\\n宋楚瑜\\n余湘     46\n",
       "2  松山區     莊敬里   575.0   (1)\\n宋楚瑜\\n余湘     48\n",
       "3  松山區     莊敬里   576.0   (1)\\n宋楚瑜\\n余湘     43\n",
       "4  松山區     東榮里   577.0   (1)\\n宋楚瑜\\n余湘     38"
      ]
     },
     "execution_count": 18,
     "metadata": {},
     "output_type": "execute_result"
    }
   ],
   "source": [
    "df = df.drop(labels=office_cols, axis=1)\n",
    "df_long = pd.melt(df,\n",
    "                  id_vars=id_vars,\n",
    "                  var_name='candidate_info',\n",
    "                  value_name='votes'\n",
    "                 )\n",
    "df_long.head()"
   ]
  },
  {
   "cell_type": "markdown",
   "metadata": {
    "slideshow": {
     "slide_type": "subslide"
    }
   },
   "source": [
    "## 定義函數 `tidy_dataframe()` 將前述的資料操作組織起來"
   ]
  },
  {
   "cell_type": "code",
   "execution_count": 19,
   "metadata": {},
   "outputs": [],
   "source": [
    "def tidy_dataframe(df):\n",
    "    # updating columns attributes \n",
    "    n_cols = df.columns.size\n",
    "    n_candidates = n_cols - 11\n",
    "    id_vars = ['town', 'village', 'office']\n",
    "    candidates = list(df.columns[3:(3 + n_candidates)])\n",
    "    office_cols = list(ascii_uppercase[:8])\n",
    "    col_names = id_vars + candidates + office_cols\n",
    "    df.columns = col_names\n",
    "    # forward-fill district values\n",
    "    filled_towns = df['town'].fillna(method='ffill')\n",
    "    df = df.assign(town=filled_towns)\n",
    "    # removing summations\n",
    "    df = df.dropna()\n",
    "    # removing extra spaces\n",
    "    stripped_towns = df['town'].str.replace(\"\\u3000\", \"\")\n",
    "    df = df.assign(town=stripped_towns)\n",
    "    # pivoting\n",
    "    df = df.drop(labels=office_cols, axis=1)\n",
    "    tidy_df = pd.melt(df,\n",
    "                      id_vars=id_vars,\n",
    "                      var_name='candidate_info',\n",
    "                      value_name='votes'\n",
    "                     )\n",
    "    return tidy_df"
   ]
  },
  {
   "cell_type": "markdown",
   "metadata": {
    "slideshow": {
     "slide_type": "subslide"
    }
   },
   "source": [
    "## 將縣市名稱從檔名中取出"
   ]
  },
  {
   "cell_type": "code",
   "execution_count": 20,
   "metadata": {
    "slideshow": {
     "slide_type": "-"
    }
   },
   "outputs": [
    {
     "name": "stdout",
     "output_type": "stream",
     "text": [
      "['宜蘭縣', '彰化縣', '金門縣', '桃園市', '苗栗縣', '臺南市', '雲林縣', '南投縣', '高雄市', '臺北市', '新北市', '花蓮縣', '新竹市', '新竹縣', '基隆市', '連江縣', '嘉義縣', '嘉義市', '屏東縣', '澎湖縣', '臺東縣', '臺中市']\n"
     ]
    }
   ],
   "source": [
    "files = [f for f in os.listdir(\"總統-各投票所得票明細及概況(Excel檔)/\") if not f.startswith('.') and \"A05-4\" in f] # to skip those hidden files\n",
    "counties = [re.split(\"\\(|\\)\", f)[1] for f in files]\n",
    "print(counties)"
   ]
  },
  {
   "cell_type": "markdown",
   "metadata": {
    "slideshow": {
     "slide_type": "subslide"
    }
   },
   "source": [
    "## 應用 `tidy_dataframe()` 函數"
   ]
  },
  {
   "cell_type": "code",
   "execution_count": 21,
   "metadata": {},
   "outputs": [
    {
     "name": "stdout",
     "output_type": "stream",
     "text": [
      "Tidying 總統-A05-4-候選人得票數一覽表-各投開票所(宜蘭縣).xls\n",
      "Tidying 總統-A05-4-候選人得票數一覽表-各投開票所(彰化縣).xls\n",
      "Tidying 總統-A05-4-候選人得票數一覽表-各投開票所(金門縣).xls\n",
      "Tidying 總統-A05-4-候選人得票數一覽表-各投開票所(桃園市).xls\n",
      "Tidying 總統-A05-4-候選人得票數一覽表-各投開票所(苗栗縣).xls\n",
      "Tidying 總統-A05-4-候選人得票數一覽表-各投開票所(臺南市).xls\n",
      "Tidying 總統-A05-4-候選人得票數一覽表-各投開票所(雲林縣).xls\n",
      "Tidying 總統-A05-4-候選人得票數一覽表-各投開票所(南投縣).xls\n",
      "Tidying 總統-A05-4-候選人得票數一覽表-各投開票所(高雄市).xls\n",
      "Tidying 總統-A05-4-候選人得票數一覽表-各投開票所(臺北市).xls\n",
      "Tidying 總統-A05-4-候選人得票數一覽表-各投開票所(新北市).xls\n",
      "Tidying 總統-A05-4-候選人得票數一覽表-各投開票所(花蓮縣).xls\n",
      "Tidying 總統-A05-4-候選人得票數一覽表-各投開票所(新竹市).xls\n",
      "Tidying 總統-A05-4-候選人得票數一覽表-各投開票所(新竹縣).xls\n",
      "Tidying 總統-A05-4-候選人得票數一覽表-各投開票所(基隆市).xls\n",
      "Tidying 總統-A05-4-候選人得票數一覽表-各投開票所(連江縣).xls\n",
      "Tidying 總統-A05-4-候選人得票數一覽表-各投開票所(嘉義縣).xls\n",
      "Tidying 總統-A05-4-候選人得票數一覽表-各投開票所(嘉義市).xls\n",
      "Tidying 總統-A05-4-候選人得票數一覽表-各投開票所(屏東縣).xls\n",
      "Tidying 總統-A05-4-候選人得票數一覽表-各投開票所(澎湖縣).xls\n",
      "Tidying 總統-A05-4-候選人得票數一覽表-各投開票所(臺東縣).xls\n",
      "Tidying 總統-A05-4-候選人得票數一覽表-各投開票所(臺中市).xls\n"
     ]
    }
   ],
   "source": [
    "presidential = pd.DataFrame()\n",
    "for county in counties:\n",
    "    file_name = \"總統-A05-4-候選人得票數一覽表-各投開票所({}).xls\".format(county)\n",
    "    spreadsheet_path = \"總統-各投票所得票明細及概況(Excel檔)/{}\".format(file_name)\n",
    "    # skip those combined cells\n",
    "    df = pd.read_excel(spreadsheet_path, skiprows=[0, 1, 3, 4], thousands=',')\n",
    "    tidy_df = tidy_dataframe(df)\n",
    "    # appending dataframe of each city/county\n",
    "    tidy_df['county'] = county\n",
    "    presidential = pd.concat([presidential, tidy_df])\n",
    "    print(\"Tidying {}\".format(file_name))\n",
    "presidential = presidential.reset_index(drop=True) # reset index for the appended dataframe"
   ]
  },
  {
   "cell_type": "code",
   "execution_count": 22,
   "metadata": {
    "slideshow": {
     "slide_type": "subslide"
    }
   },
   "outputs": [
    {
     "data": {
      "text/html": [
       "<div>\n",
       "<style scoped>\n",
       "    .dataframe tbody tr th:only-of-type {\n",
       "        vertical-align: middle;\n",
       "    }\n",
       "\n",
       "    .dataframe tbody tr th {\n",
       "        vertical-align: top;\n",
       "    }\n",
       "\n",
       "    .dataframe thead th {\n",
       "        text-align: right;\n",
       "    }\n",
       "</style>\n",
       "<table border=\"1\" class=\"dataframe\">\n",
       "  <thead>\n",
       "    <tr style=\"text-align: right;\">\n",
       "      <th></th>\n",
       "      <th>town</th>\n",
       "      <th>village</th>\n",
       "      <th>office</th>\n",
       "      <th>candidate_info</th>\n",
       "      <th>votes</th>\n",
       "      <th>county</th>\n",
       "    </tr>\n",
       "  </thead>\n",
       "  <tbody>\n",
       "    <tr>\n",
       "      <th>0</th>\n",
       "      <td>宜蘭市</td>\n",
       "      <td>民族里</td>\n",
       "      <td>1.0</td>\n",
       "      <td>(1)\\n宋楚瑜\\n余湘</td>\n",
       "      <td>37</td>\n",
       "      <td>宜蘭縣</td>\n",
       "    </tr>\n",
       "    <tr>\n",
       "      <th>1</th>\n",
       "      <td>宜蘭市</td>\n",
       "      <td>民族里</td>\n",
       "      <td>2.0</td>\n",
       "      <td>(1)\\n宋楚瑜\\n余湘</td>\n",
       "      <td>31</td>\n",
       "      <td>宜蘭縣</td>\n",
       "    </tr>\n",
       "    <tr>\n",
       "      <th>2</th>\n",
       "      <td>宜蘭市</td>\n",
       "      <td>建軍里</td>\n",
       "      <td>3.0</td>\n",
       "      <td>(1)\\n宋楚瑜\\n余湘</td>\n",
       "      <td>19</td>\n",
       "      <td>宜蘭縣</td>\n",
       "    </tr>\n",
       "    <tr>\n",
       "      <th>3</th>\n",
       "      <td>宜蘭市</td>\n",
       "      <td>建軍里</td>\n",
       "      <td>4.0</td>\n",
       "      <td>(1)\\n宋楚瑜\\n余湘</td>\n",
       "      <td>29</td>\n",
       "      <td>宜蘭縣</td>\n",
       "    </tr>\n",
       "    <tr>\n",
       "      <th>4</th>\n",
       "      <td>宜蘭市</td>\n",
       "      <td>泰山里</td>\n",
       "      <td>5.0</td>\n",
       "      <td>(1)\\n宋楚瑜\\n余湘</td>\n",
       "      <td>25</td>\n",
       "      <td>宜蘭縣</td>\n",
       "    </tr>\n",
       "  </tbody>\n",
       "</table>\n",
       "</div>"
      ],
      "text/plain": [
       "  town village  office candidate_info  votes county\n",
       "0  宜蘭市     民族里     1.0   (1)\\n宋楚瑜\\n余湘     37    宜蘭縣\n",
       "1  宜蘭市     民族里     2.0   (1)\\n宋楚瑜\\n余湘     31    宜蘭縣\n",
       "2  宜蘭市     建軍里     3.0   (1)\\n宋楚瑜\\n余湘     19    宜蘭縣\n",
       "3  宜蘭市     建軍里     4.0   (1)\\n宋楚瑜\\n余湘     29    宜蘭縣\n",
       "4  宜蘭市     泰山里     5.0   (1)\\n宋楚瑜\\n余湘     25    宜蘭縣"
      ]
     },
     "execution_count": 22,
     "metadata": {},
     "output_type": "execute_result"
    }
   ],
   "source": [
    "presidential.head()"
   ]
  },
  {
   "cell_type": "code",
   "execution_count": 23,
   "metadata": {
    "slideshow": {
     "slide_type": "subslide"
    }
   },
   "outputs": [
    {
     "data": {
      "text/html": [
       "<div>\n",
       "<style scoped>\n",
       "    .dataframe tbody tr th:only-of-type {\n",
       "        vertical-align: middle;\n",
       "    }\n",
       "\n",
       "    .dataframe tbody tr th {\n",
       "        vertical-align: top;\n",
       "    }\n",
       "\n",
       "    .dataframe thead th {\n",
       "        text-align: right;\n",
       "    }\n",
       "</style>\n",
       "<table border=\"1\" class=\"dataframe\">\n",
       "  <thead>\n",
       "    <tr style=\"text-align: right;\">\n",
       "      <th></th>\n",
       "      <th>town</th>\n",
       "      <th>village</th>\n",
       "      <th>office</th>\n",
       "      <th>candidate_info</th>\n",
       "      <th>votes</th>\n",
       "      <th>county</th>\n",
       "    </tr>\n",
       "  </thead>\n",
       "  <tbody>\n",
       "    <tr>\n",
       "      <th>51673</th>\n",
       "      <td>和平區</td>\n",
       "      <td>梨山里</td>\n",
       "      <td>1845.0</td>\n",
       "      <td>(3)\\n蔡英文\\n賴清德</td>\n",
       "      <td>132</td>\n",
       "      <td>臺中市</td>\n",
       "    </tr>\n",
       "    <tr>\n",
       "      <th>51674</th>\n",
       "      <td>和平區</td>\n",
       "      <td>梨山里</td>\n",
       "      <td>1846.0</td>\n",
       "      <td>(3)\\n蔡英文\\n賴清德</td>\n",
       "      <td>107</td>\n",
       "      <td>臺中市</td>\n",
       "    </tr>\n",
       "    <tr>\n",
       "      <th>51675</th>\n",
       "      <td>和平區</td>\n",
       "      <td>梨山里</td>\n",
       "      <td>1847.0</td>\n",
       "      <td>(3)\\n蔡英文\\n賴清德</td>\n",
       "      <td>40</td>\n",
       "      <td>臺中市</td>\n",
       "    </tr>\n",
       "    <tr>\n",
       "      <th>51676</th>\n",
       "      <td>和平區</td>\n",
       "      <td>平等里</td>\n",
       "      <td>1848.0</td>\n",
       "      <td>(3)\\n蔡英文\\n賴清德</td>\n",
       "      <td>24</td>\n",
       "      <td>臺中市</td>\n",
       "    </tr>\n",
       "    <tr>\n",
       "      <th>51677</th>\n",
       "      <td>和平區</td>\n",
       "      <td>平等里</td>\n",
       "      <td>1849.0</td>\n",
       "      <td>(3)\\n蔡英文\\n賴清德</td>\n",
       "      <td>102</td>\n",
       "      <td>臺中市</td>\n",
       "    </tr>\n",
       "  </tbody>\n",
       "</table>\n",
       "</div>"
      ],
      "text/plain": [
       "      town village  office candidate_info  votes county\n",
       "51673  和平區     梨山里  1845.0  (3)\\n蔡英文\\n賴清德    132    臺中市\n",
       "51674  和平區     梨山里  1846.0  (3)\\n蔡英文\\n賴清德    107    臺中市\n",
       "51675  和平區     梨山里  1847.0  (3)\\n蔡英文\\n賴清德     40    臺中市\n",
       "51676  和平區     平等里  1848.0  (3)\\n蔡英文\\n賴清德     24    臺中市\n",
       "51677  和平區     平等里  1849.0  (3)\\n蔡英文\\n賴清德    102    臺中市"
      ]
     },
     "execution_count": 23,
     "metadata": {},
     "output_type": "execute_result"
    }
   ],
   "source": [
    "presidential.tail()"
   ]
  },
  {
   "cell_type": "markdown",
   "metadata": {
    "slideshow": {
     "slide_type": "subslide"
    }
   },
   "source": [
    "## 定義函數 `adjust_presidential()` 調整"
   ]
  },
  {
   "cell_type": "code",
   "execution_count": 24,
   "metadata": {},
   "outputs": [],
   "source": [
    "def adjust_presidential(df):\n",
    "    # split candidate information into 2 columns\n",
    "    candidate_info_df = df['candidate_info'].str.split(\"\\n\", expand=True)\n",
    "    numbers = candidate_info_df[0].str.replace(\"\\(|\\)\", \"\", regex=False)\n",
    "    candidates = candidate_info_df[1].str.cat(candidate_info_df[2], sep=\"/\")\n",
    "    # re-arrange columns\n",
    "    df = df.drop(labels='candidate_info', axis=1)\n",
    "    df['number'] = numbers\n",
    "    df['candidate'] = candidates\n",
    "    df['office'] = df['office'].astype(int)\n",
    "    df = df[['county', 'town', 'village', 'office', 'number', 'candidate', 'votes']]\n",
    "    return df"
   ]
  },
  {
   "cell_type": "markdown",
   "metadata": {
    "slideshow": {
     "slide_type": "subslide"
    }
   },
   "source": [
    "## 應用 `adjust_presidential()` 函數"
   ]
  },
  {
   "cell_type": "code",
   "execution_count": 25,
   "metadata": {
    "slideshow": {
     "slide_type": "-"
    }
   },
   "outputs": [],
   "source": [
    "presidential = adjust_presidential(presidential)"
   ]
  },
  {
   "cell_type": "code",
   "execution_count": 26,
   "metadata": {
    "slideshow": {
     "slide_type": "subslide"
    }
   },
   "outputs": [
    {
     "data": {
      "text/html": [
       "<div>\n",
       "<style scoped>\n",
       "    .dataframe tbody tr th:only-of-type {\n",
       "        vertical-align: middle;\n",
       "    }\n",
       "\n",
       "    .dataframe tbody tr th {\n",
       "        vertical-align: top;\n",
       "    }\n",
       "\n",
       "    .dataframe thead th {\n",
       "        text-align: right;\n",
       "    }\n",
       "</style>\n",
       "<table border=\"1\" class=\"dataframe\">\n",
       "  <thead>\n",
       "    <tr style=\"text-align: right;\">\n",
       "      <th></th>\n",
       "      <th>county</th>\n",
       "      <th>town</th>\n",
       "      <th>village</th>\n",
       "      <th>office</th>\n",
       "      <th>number</th>\n",
       "      <th>candidate</th>\n",
       "      <th>votes</th>\n",
       "    </tr>\n",
       "  </thead>\n",
       "  <tbody>\n",
       "    <tr>\n",
       "      <th>0</th>\n",
       "      <td>宜蘭縣</td>\n",
       "      <td>宜蘭市</td>\n",
       "      <td>民族里</td>\n",
       "      <td>1</td>\n",
       "      <td>(1)</td>\n",
       "      <td>宋楚瑜/余湘</td>\n",
       "      <td>37</td>\n",
       "    </tr>\n",
       "    <tr>\n",
       "      <th>1</th>\n",
       "      <td>宜蘭縣</td>\n",
       "      <td>宜蘭市</td>\n",
       "      <td>民族里</td>\n",
       "      <td>2</td>\n",
       "      <td>(1)</td>\n",
       "      <td>宋楚瑜/余湘</td>\n",
       "      <td>31</td>\n",
       "    </tr>\n",
       "    <tr>\n",
       "      <th>2</th>\n",
       "      <td>宜蘭縣</td>\n",
       "      <td>宜蘭市</td>\n",
       "      <td>建軍里</td>\n",
       "      <td>3</td>\n",
       "      <td>(1)</td>\n",
       "      <td>宋楚瑜/余湘</td>\n",
       "      <td>19</td>\n",
       "    </tr>\n",
       "    <tr>\n",
       "      <th>3</th>\n",
       "      <td>宜蘭縣</td>\n",
       "      <td>宜蘭市</td>\n",
       "      <td>建軍里</td>\n",
       "      <td>4</td>\n",
       "      <td>(1)</td>\n",
       "      <td>宋楚瑜/余湘</td>\n",
       "      <td>29</td>\n",
       "    </tr>\n",
       "    <tr>\n",
       "      <th>4</th>\n",
       "      <td>宜蘭縣</td>\n",
       "      <td>宜蘭市</td>\n",
       "      <td>泰山里</td>\n",
       "      <td>5</td>\n",
       "      <td>(1)</td>\n",
       "      <td>宋楚瑜/余湘</td>\n",
       "      <td>25</td>\n",
       "    </tr>\n",
       "  </tbody>\n",
       "</table>\n",
       "</div>"
      ],
      "text/plain": [
       "  county town village  office number candidate  votes\n",
       "0    宜蘭縣  宜蘭市     民族里       1    (1)    宋楚瑜/余湘     37\n",
       "1    宜蘭縣  宜蘭市     民族里       2    (1)    宋楚瑜/余湘     31\n",
       "2    宜蘭縣  宜蘭市     建軍里       3    (1)    宋楚瑜/余湘     19\n",
       "3    宜蘭縣  宜蘭市     建軍里       4    (1)    宋楚瑜/余湘     29\n",
       "4    宜蘭縣  宜蘭市     泰山里       5    (1)    宋楚瑜/余湘     25"
      ]
     },
     "execution_count": 26,
     "metadata": {},
     "output_type": "execute_result"
    }
   ],
   "source": [
    "presidential.head()"
   ]
  },
  {
   "cell_type": "code",
   "execution_count": 27,
   "metadata": {
    "slideshow": {
     "slide_type": "subslide"
    }
   },
   "outputs": [
    {
     "data": {
      "text/html": [
       "<div>\n",
       "<style scoped>\n",
       "    .dataframe tbody tr th:only-of-type {\n",
       "        vertical-align: middle;\n",
       "    }\n",
       "\n",
       "    .dataframe tbody tr th {\n",
       "        vertical-align: top;\n",
       "    }\n",
       "\n",
       "    .dataframe thead th {\n",
       "        text-align: right;\n",
       "    }\n",
       "</style>\n",
       "<table border=\"1\" class=\"dataframe\">\n",
       "  <thead>\n",
       "    <tr style=\"text-align: right;\">\n",
       "      <th></th>\n",
       "      <th>county</th>\n",
       "      <th>town</th>\n",
       "      <th>village</th>\n",
       "      <th>office</th>\n",
       "      <th>number</th>\n",
       "      <th>candidate</th>\n",
       "      <th>votes</th>\n",
       "    </tr>\n",
       "  </thead>\n",
       "  <tbody>\n",
       "    <tr>\n",
       "      <th>51673</th>\n",
       "      <td>臺中市</td>\n",
       "      <td>和平區</td>\n",
       "      <td>梨山里</td>\n",
       "      <td>1845</td>\n",
       "      <td>(3)</td>\n",
       "      <td>蔡英文/賴清德</td>\n",
       "      <td>132</td>\n",
       "    </tr>\n",
       "    <tr>\n",
       "      <th>51674</th>\n",
       "      <td>臺中市</td>\n",
       "      <td>和平區</td>\n",
       "      <td>梨山里</td>\n",
       "      <td>1846</td>\n",
       "      <td>(3)</td>\n",
       "      <td>蔡英文/賴清德</td>\n",
       "      <td>107</td>\n",
       "    </tr>\n",
       "    <tr>\n",
       "      <th>51675</th>\n",
       "      <td>臺中市</td>\n",
       "      <td>和平區</td>\n",
       "      <td>梨山里</td>\n",
       "      <td>1847</td>\n",
       "      <td>(3)</td>\n",
       "      <td>蔡英文/賴清德</td>\n",
       "      <td>40</td>\n",
       "    </tr>\n",
       "    <tr>\n",
       "      <th>51676</th>\n",
       "      <td>臺中市</td>\n",
       "      <td>和平區</td>\n",
       "      <td>平等里</td>\n",
       "      <td>1848</td>\n",
       "      <td>(3)</td>\n",
       "      <td>蔡英文/賴清德</td>\n",
       "      <td>24</td>\n",
       "    </tr>\n",
       "    <tr>\n",
       "      <th>51677</th>\n",
       "      <td>臺中市</td>\n",
       "      <td>和平區</td>\n",
       "      <td>平等里</td>\n",
       "      <td>1849</td>\n",
       "      <td>(3)</td>\n",
       "      <td>蔡英文/賴清德</td>\n",
       "      <td>102</td>\n",
       "    </tr>\n",
       "  </tbody>\n",
       "</table>\n",
       "</div>"
      ],
      "text/plain": [
       "      county town village  office number candidate  votes\n",
       "51673    臺中市  和平區     梨山里    1845    (3)   蔡英文/賴清德    132\n",
       "51674    臺中市  和平區     梨山里    1846    (3)   蔡英文/賴清德    107\n",
       "51675    臺中市  和平區     梨山里    1847    (3)   蔡英文/賴清德     40\n",
       "51676    臺中市  和平區     平等里    1848    (3)   蔡英文/賴清德     24\n",
       "51677    臺中市  和平區     平等里    1849    (3)   蔡英文/賴清德    102"
      ]
     },
     "execution_count": 27,
     "metadata": {},
     "output_type": "execute_result"
    }
   ],
   "source": [
    "presidential.tail()"
   ]
  },
  {
   "cell_type": "markdown",
   "metadata": {
    "slideshow": {
     "slide_type": "subslide"
    }
   },
   "source": [
    "## 完成了`總統-各投票所得票明細及概況`！\n",
    "\n",
    "![](https://media.giphy.com/media/1sjwSoZLcENCE/giphy.gif)\n",
    "\n",
    "來源：<https://media.giphy.com/media/1sjwSoZLcENCE/giphy.gif>"
   ]
  },
  {
   "cell_type": "markdown",
   "metadata": {
    "slideshow": {
     "slide_type": "subslide"
    }
   },
   "source": [
    "## 應用 `tidy_dataframe()` 函數在`立委-各投票所得票明細及概況`\n",
    "\n",
    "三種立委類型：Types of legislator:\n",
    "\n",
    "1. 區域立委。\n",
    "2. 平地原住民立委、山地原住民立委。\n",
    "3. 不分區立委。\n",
    "\n",
    "區域立委、平地原住民立委、山地原住民立委是投給「候選人」，不分區立委是投給「政黨」。"
   ]
  },
  {
   "cell_type": "markdown",
   "metadata": {
    "slideshow": {
     "slide_type": "subslide"
    }
   },
   "source": [
    "## 應用 `tidy_dataframe()` 函數在區域立委試算表"
   ]
  },
  {
   "cell_type": "code",
   "execution_count": 28,
   "metadata": {},
   "outputs": [
    {
     "name": "stdout",
     "output_type": "stream",
     "text": [
      "Tidying 宜蘭縣選舉區 of 區域立委-A05-2-得票數一覽表(宜蘭縣).xls\n",
      "Tidying 彰化縣第1選舉區 of 區域立委-A05-2-得票數一覽表(彰化縣).xls\n",
      "Tidying 彰化縣第2選舉區 of 區域立委-A05-2-得票數一覽表(彰化縣).xls\n",
      "Tidying 彰化縣第3選舉區 of 區域立委-A05-2-得票數一覽表(彰化縣).xls\n",
      "Tidying 彰化縣第4選舉區 of 區域立委-A05-2-得票數一覽表(彰化縣).xls\n",
      "Tidying 金門縣選舉區 of 區域立委-A05-2-得票數一覽表(金門縣).xls\n",
      "Tidying 桃園市第1選舉區 of 區域立委-A05-2-得票數一覽表(桃園市).xls\n",
      "Tidying 桃園市第2選舉區 of 區域立委-A05-2-得票數一覽表(桃園市).xls\n",
      "Tidying 桃園市第3選舉區 of 區域立委-A05-2-得票數一覽表(桃園市).xls\n",
      "Tidying 桃園市第4選舉區 of 區域立委-A05-2-得票數一覽表(桃園市).xls\n",
      "Tidying 桃園市第5選舉區 of 區域立委-A05-2-得票數一覽表(桃園市).xls\n",
      "Tidying 桃園市第6選舉區 of 區域立委-A05-2-得票數一覽表(桃園市).xls\n",
      "Tidying 苗栗縣第1選舉區 of 區域立委-A05-2-得票數一覽表(苗栗縣).xls\n",
      "Tidying 苗栗縣第2選舉區 of 區域立委-A05-2-得票數一覽表(苗栗縣).xls\n",
      "Tidying 臺南市第1選舉區 of 區域立委-A05-2-得票數一覽表(臺南市).xls\n",
      "Tidying 臺南市第2選舉區 of 區域立委-A05-2-得票數一覽表(臺南市).xls\n",
      "Tidying 臺南市第3選舉區 of 區域立委-A05-2-得票數一覽表(臺南市).xls\n",
      "Tidying 臺南市第4選舉區 of 區域立委-A05-2-得票數一覽表(臺南市).xls\n",
      "Tidying 臺南市第5選舉區 of 區域立委-A05-2-得票數一覽表(臺南市).xls\n",
      "Tidying 臺南市第6選舉區 of 區域立委-A05-2-得票數一覽表(臺南市).xls\n",
      "Tidying 雲林縣第1選舉區 of 區域立委-A05-2-得票數一覽表(雲林縣).xls\n",
      "Tidying 雲林縣第2選舉區 of 區域立委-A05-2-得票數一覽表(雲林縣).xls\n",
      "Tidying 南投縣第1選舉區 of 區域立委-A05-2-得票數一覽表(南投縣).xls\n",
      "Tidying 南投縣第2選舉區 of 區域立委-A05-2-得票數一覽表(南投縣).xls\n",
      "Tidying 高雄市第1選舉區 of 區域立委-A05-2-得票數一覽表(高雄市).xls\n",
      "Tidying 高雄市第2選舉區 of 區域立委-A05-2-得票數一覽表(高雄市).xls\n",
      "Tidying 高雄市第3選舉區 of 區域立委-A05-2-得票數一覽表(高雄市).xls\n",
      "Tidying 高雄市第4選舉區 of 區域立委-A05-2-得票數一覽表(高雄市).xls\n",
      "Tidying 高雄市第5選舉區 of 區域立委-A05-2-得票數一覽表(高雄市).xls\n",
      "Tidying 高雄市第6選舉區 of 區域立委-A05-2-得票數一覽表(高雄市).xls\n",
      "Tidying 高雄市第7選舉區 of 區域立委-A05-2-得票數一覽表(高雄市).xls\n",
      "Tidying 高雄市第8選舉區 of 區域立委-A05-2-得票數一覽表(高雄市).xls\n",
      "Tidying 臺北市第1選舉區 of 區域立委-A05-2-得票數一覽表(臺北市).xls\n",
      "Tidying 臺北市第2選舉區 of 區域立委-A05-2-得票數一覽表(臺北市).xls\n",
      "Tidying 臺北市第3選舉區 of 區域立委-A05-2-得票數一覽表(臺北市).xls\n",
      "Tidying 臺北市第4選舉區 of 區域立委-A05-2-得票數一覽表(臺北市).xls\n",
      "Tidying 臺北市第5選舉區 of 區域立委-A05-2-得票數一覽表(臺北市).xls\n",
      "Tidying 臺北市第6選舉區 of 區域立委-A05-2-得票數一覽表(臺北市).xls\n",
      "Tidying 臺北市第7選舉區 of 區域立委-A05-2-得票數一覽表(臺北市).xls\n",
      "Tidying 臺北市第8選舉區 of 區域立委-A05-2-得票數一覽表(臺北市).xls\n",
      "Tidying 新北市第1選舉區 of 區域立委-A05-2-得票數一覽表(新北市).xls\n",
      "Tidying 新北市第2選舉區 of 區域立委-A05-2-得票數一覽表(新北市).xls\n",
      "Tidying 新北市第3選舉區 of 區域立委-A05-2-得票數一覽表(新北市).xls\n",
      "Tidying 新北市第4選舉區 of 區域立委-A05-2-得票數一覽表(新北市).xls\n",
      "Tidying 新北市第5選舉區 of 區域立委-A05-2-得票數一覽表(新北市).xls\n",
      "Tidying 新北市第6選舉區 of 區域立委-A05-2-得票數一覽表(新北市).xls\n",
      "Tidying 新北市第7選舉區 of 區域立委-A05-2-得票數一覽表(新北市).xls\n",
      "Tidying 新北市第8選舉區 of 區域立委-A05-2-得票數一覽表(新北市).xls\n",
      "Tidying 新北市第9選舉區 of 區域立委-A05-2-得票數一覽表(新北市).xls\n",
      "Tidying 新北市第10選舉區 of 區域立委-A05-2-得票數一覽表(新北市).xls\n",
      "Tidying 新北市第11選舉區 of 區域立委-A05-2-得票數一覽表(新北市).xls\n",
      "Tidying 新北市第12選舉區 of 區域立委-A05-2-得票數一覽表(新北市).xls\n",
      "Tidying 花蓮縣選舉區 of 區域立委-A05-2-得票數一覽表(花蓮縣).xls\n",
      "Tidying 新竹市選舉區 of 區域立委-A05-2-得票數一覽表(新竹市).xls\n",
      "Tidying 新竹縣第1選舉區 of 區域立委-A05-2-得票數一覽表(新竹縣).xls\n",
      "Tidying 新竹縣第2選舉區 of 區域立委-A05-2-得票數一覽表(新竹縣).xls\n",
      "Tidying 基隆市選舉區 of 區域立委-A05-2-得票數一覽表(基隆市).xls\n",
      "Tidying 連江縣選舉區 of 區域立委-A05-2-得票數一覽表(連江縣).xls\n",
      "Tidying 嘉義縣第1選舉區 of 區域立委-A05-2-得票數一覽表(嘉義縣).xls\n",
      "Tidying 嘉義縣第2選舉區 of 區域立委-A05-2-得票數一覽表(嘉義縣).xls\n",
      "Tidying 嘉義市選舉區 of 區域立委-A05-2-得票數一覽表(嘉義市).xls\n",
      "Tidying 屏東縣第1選舉區 of 區域立委-A05-2-得票數一覽表(屏東縣).xls\n",
      "Tidying 屏東縣第2選舉區 of 區域立委-A05-2-得票數一覽表(屏東縣).xls\n",
      "Tidying 澎湖縣選舉區 of 區域立委-A05-2-得票數一覽表(澎湖縣).xls\n",
      "Tidying 臺東縣選舉區 of 區域立委-A05-2-得票數一覽表(臺東縣).xls\n",
      "Tidying 臺中市第1選舉區 of 區域立委-A05-2-得票數一覽表(臺中市).xls\n",
      "Tidying 臺中市第2選舉區 of 區域立委-A05-2-得票數一覽表(臺中市).xls\n",
      "Tidying 臺中市第3選舉區 of 區域立委-A05-2-得票數一覽表(臺中市).xls\n",
      "Tidying 臺中市第4選舉區 of 區域立委-A05-2-得票數一覽表(臺中市).xls\n",
      "Tidying 臺中市第5選舉區 of 區域立委-A05-2-得票數一覽表(臺中市).xls\n",
      "Tidying 臺中市第6選舉區 of 區域立委-A05-2-得票數一覽表(臺中市).xls\n",
      "Tidying 臺中市第7選舉區 of 區域立委-A05-2-得票數一覽表(臺中市).xls\n",
      "Tidying 臺中市第8選舉區 of 區域立委-A05-2-得票數一覽表(臺中市).xls\n"
     ]
    }
   ],
   "source": [
    "regional = pd.DataFrame()\n",
    "for county in counties:\n",
    "    file_name = \"區域立委-A05-2-得票數一覽表({}).xls\".format(county)\n",
    "    spreadsheet_path = \"立委-各投票所得票明細及概況(Excel檔)/{}\".format(file_name)\n",
    "    xl = pd.ExcelFile(spreadsheet_path)\n",
    "    for sheet in xl.sheet_names:\n",
    "        # skip those combined cells\n",
    "        df = pd.read_excel(spreadsheet_path, skiprows=[0, 1, 3, 4], thousands=',', sheet_name=sheet)\n",
    "        tidy_df = tidy_dataframe(df)\n",
    "        # appending dataframe of each city/county\n",
    "        tidy_df['county'] = county\n",
    "        tidy_df['electoral_district'] = sheet\n",
    "        regional = pd.concat([regional, tidy_df])\n",
    "        print(\"Tidying {} of {}\".format(sheet, file_name))\n",
    "regional = regional.reset_index(drop=True) # reset index for the appended dataframe"
   ]
  },
  {
   "cell_type": "code",
   "execution_count": 29,
   "metadata": {
    "slideshow": {
     "slide_type": "subslide"
    }
   },
   "outputs": [
    {
     "data": {
      "text/html": [
       "<div>\n",
       "<style scoped>\n",
       "    .dataframe tbody tr th:only-of-type {\n",
       "        vertical-align: middle;\n",
       "    }\n",
       "\n",
       "    .dataframe tbody tr th {\n",
       "        vertical-align: top;\n",
       "    }\n",
       "\n",
       "    .dataframe thead th {\n",
       "        text-align: right;\n",
       "    }\n",
       "</style>\n",
       "<table border=\"1\" class=\"dataframe\">\n",
       "  <thead>\n",
       "    <tr style=\"text-align: right;\">\n",
       "      <th></th>\n",
       "      <th>town</th>\n",
       "      <th>village</th>\n",
       "      <th>office</th>\n",
       "      <th>candidate_info</th>\n",
       "      <th>votes</th>\n",
       "      <th>county</th>\n",
       "      <th>electoral_district</th>\n",
       "    </tr>\n",
       "  </thead>\n",
       "  <tbody>\n",
       "    <tr>\n",
       "      <th>0</th>\n",
       "      <td>宜蘭市</td>\n",
       "      <td>民族里</td>\n",
       "      <td>1.0</td>\n",
       "      <td>(1)\\n黃定和\\n無</td>\n",
       "      <td>128</td>\n",
       "      <td>宜蘭縣</td>\n",
       "      <td>宜蘭縣選舉區</td>\n",
       "    </tr>\n",
       "    <tr>\n",
       "      <th>1</th>\n",
       "      <td>宜蘭市</td>\n",
       "      <td>民族里</td>\n",
       "      <td>2.0</td>\n",
       "      <td>(1)\\n黃定和\\n無</td>\n",
       "      <td>138</td>\n",
       "      <td>宜蘭縣</td>\n",
       "      <td>宜蘭縣選舉區</td>\n",
       "    </tr>\n",
       "    <tr>\n",
       "      <th>2</th>\n",
       "      <td>宜蘭市</td>\n",
       "      <td>建軍里</td>\n",
       "      <td>3.0</td>\n",
       "      <td>(1)\\n黃定和\\n無</td>\n",
       "      <td>122</td>\n",
       "      <td>宜蘭縣</td>\n",
       "      <td>宜蘭縣選舉區</td>\n",
       "    </tr>\n",
       "    <tr>\n",
       "      <th>3</th>\n",
       "      <td>宜蘭市</td>\n",
       "      <td>建軍里</td>\n",
       "      <td>4.0</td>\n",
       "      <td>(1)\\n黃定和\\n無</td>\n",
       "      <td>104</td>\n",
       "      <td>宜蘭縣</td>\n",
       "      <td>宜蘭縣選舉區</td>\n",
       "    </tr>\n",
       "    <tr>\n",
       "      <th>4</th>\n",
       "      <td>宜蘭市</td>\n",
       "      <td>泰山里</td>\n",
       "      <td>5.0</td>\n",
       "      <td>(1)\\n黃定和\\n無</td>\n",
       "      <td>129</td>\n",
       "      <td>宜蘭縣</td>\n",
       "      <td>宜蘭縣選舉區</td>\n",
       "    </tr>\n",
       "  </tbody>\n",
       "</table>\n",
       "</div>"
      ],
      "text/plain": [
       "  town village  office candidate_info  votes county electoral_district\n",
       "0  宜蘭市     民族里     1.0    (1)\\n黃定和\\n無    128    宜蘭縣             宜蘭縣選舉區\n",
       "1  宜蘭市     民族里     2.0    (1)\\n黃定和\\n無    138    宜蘭縣             宜蘭縣選舉區\n",
       "2  宜蘭市     建軍里     3.0    (1)\\n黃定和\\n無    122    宜蘭縣             宜蘭縣選舉區\n",
       "3  宜蘭市     建軍里     4.0    (1)\\n黃定和\\n無    104    宜蘭縣             宜蘭縣選舉區\n",
       "4  宜蘭市     泰山里     5.0    (1)\\n黃定和\\n無    129    宜蘭縣             宜蘭縣選舉區"
      ]
     },
     "execution_count": 29,
     "metadata": {},
     "output_type": "execute_result"
    }
   ],
   "source": [
    "regional.head()"
   ]
  },
  {
   "cell_type": "markdown",
   "metadata": {
    "slideshow": {
     "slide_type": "subslide"
    }
   },
   "source": [
    "## 定義函數 `adjust_legislative()` 調整"
   ]
  },
  {
   "cell_type": "code",
   "execution_count": 30,
   "metadata": {
    "slideshow": {
     "slide_type": "-"
    }
   },
   "outputs": [],
   "source": [
    "def adjust_legislative(df):\n",
    "    # split candidate information into 2 columns\n",
    "    candidate_info_df = df['candidate_info'].str.split(\"\\n\", expand=True)\n",
    "    numbers = candidate_info_df[0].str.replace(\"\\(|\\)\", \"\", regex=False)\n",
    "    candidates = candidate_info_df[1]\n",
    "    parties = candidate_info_df[2]\n",
    "    # re-arrange columns\n",
    "    df = df.drop(labels='candidate_info', axis=1)\n",
    "    df['number'] = numbers\n",
    "    df['candidate'] = candidates\n",
    "    df['party'] = parties\n",
    "    df['office'] = df['office'].astype(int)\n",
    "    return df"
   ]
  },
  {
   "cell_type": "markdown",
   "metadata": {
    "slideshow": {
     "slide_type": "subslide"
    }
   },
   "source": [
    "## 應用 `adjust_legislative()` 函數"
   ]
  },
  {
   "cell_type": "code",
   "execution_count": 31,
   "metadata": {},
   "outputs": [],
   "source": [
    "regional = adjust_legislative(regional)\n",
    "regional = regional[['county', 'electoral_district', 'town', 'village', 'office', 'number', 'party', 'candidate', 'votes']]"
   ]
  },
  {
   "cell_type": "code",
   "execution_count": 32,
   "metadata": {
    "slideshow": {
     "slide_type": "subslide"
    }
   },
   "outputs": [
    {
     "data": {
      "text/html": [
       "<div>\n",
       "<style scoped>\n",
       "    .dataframe tbody tr th:only-of-type {\n",
       "        vertical-align: middle;\n",
       "    }\n",
       "\n",
       "    .dataframe tbody tr th {\n",
       "        vertical-align: top;\n",
       "    }\n",
       "\n",
       "    .dataframe thead th {\n",
       "        text-align: right;\n",
       "    }\n",
       "</style>\n",
       "<table border=\"1\" class=\"dataframe\">\n",
       "  <thead>\n",
       "    <tr style=\"text-align: right;\">\n",
       "      <th></th>\n",
       "      <th>county</th>\n",
       "      <th>electoral_district</th>\n",
       "      <th>town</th>\n",
       "      <th>village</th>\n",
       "      <th>office</th>\n",
       "      <th>number</th>\n",
       "      <th>party</th>\n",
       "      <th>candidate</th>\n",
       "      <th>votes</th>\n",
       "    </tr>\n",
       "  </thead>\n",
       "  <tbody>\n",
       "    <tr>\n",
       "      <th>0</th>\n",
       "      <td>宜蘭縣</td>\n",
       "      <td>宜蘭縣選舉區</td>\n",
       "      <td>宜蘭市</td>\n",
       "      <td>民族里</td>\n",
       "      <td>1</td>\n",
       "      <td>(1)</td>\n",
       "      <td>無</td>\n",
       "      <td>黃定和</td>\n",
       "      <td>128</td>\n",
       "    </tr>\n",
       "    <tr>\n",
       "      <th>1</th>\n",
       "      <td>宜蘭縣</td>\n",
       "      <td>宜蘭縣選舉區</td>\n",
       "      <td>宜蘭市</td>\n",
       "      <td>民族里</td>\n",
       "      <td>2</td>\n",
       "      <td>(1)</td>\n",
       "      <td>無</td>\n",
       "      <td>黃定和</td>\n",
       "      <td>138</td>\n",
       "    </tr>\n",
       "    <tr>\n",
       "      <th>2</th>\n",
       "      <td>宜蘭縣</td>\n",
       "      <td>宜蘭縣選舉區</td>\n",
       "      <td>宜蘭市</td>\n",
       "      <td>建軍里</td>\n",
       "      <td>3</td>\n",
       "      <td>(1)</td>\n",
       "      <td>無</td>\n",
       "      <td>黃定和</td>\n",
       "      <td>122</td>\n",
       "    </tr>\n",
       "    <tr>\n",
       "      <th>3</th>\n",
       "      <td>宜蘭縣</td>\n",
       "      <td>宜蘭縣選舉區</td>\n",
       "      <td>宜蘭市</td>\n",
       "      <td>建軍里</td>\n",
       "      <td>4</td>\n",
       "      <td>(1)</td>\n",
       "      <td>無</td>\n",
       "      <td>黃定和</td>\n",
       "      <td>104</td>\n",
       "    </tr>\n",
       "    <tr>\n",
       "      <th>4</th>\n",
       "      <td>宜蘭縣</td>\n",
       "      <td>宜蘭縣選舉區</td>\n",
       "      <td>宜蘭市</td>\n",
       "      <td>泰山里</td>\n",
       "      <td>5</td>\n",
       "      <td>(1)</td>\n",
       "      <td>無</td>\n",
       "      <td>黃定和</td>\n",
       "      <td>129</td>\n",
       "    </tr>\n",
       "  </tbody>\n",
       "</table>\n",
       "</div>"
      ],
      "text/plain": [
       "  county electoral_district town village  office number party candidate  votes\n",
       "0    宜蘭縣             宜蘭縣選舉區  宜蘭市     民族里       1    (1)     無       黃定和    128\n",
       "1    宜蘭縣             宜蘭縣選舉區  宜蘭市     民族里       2    (1)     無       黃定和    138\n",
       "2    宜蘭縣             宜蘭縣選舉區  宜蘭市     建軍里       3    (1)     無       黃定和    122\n",
       "3    宜蘭縣             宜蘭縣選舉區  宜蘭市     建軍里       4    (1)     無       黃定和    104\n",
       "4    宜蘭縣             宜蘭縣選舉區  宜蘭市     泰山里       5    (1)     無       黃定和    129"
      ]
     },
     "execution_count": 32,
     "metadata": {},
     "output_type": "execute_result"
    }
   ],
   "source": [
    "regional.head()"
   ]
  },
  {
   "cell_type": "markdown",
   "metadata": {
    "slideshow": {
     "slide_type": "subslide"
    }
   },
   "source": [
    "## 應用 `tidy_dataframe()` 函數在平地原住民立委、山地原住民立委試算表"
   ]
  },
  {
   "cell_type": "code",
   "execution_count": 33,
   "metadata": {},
   "outputs": [
    {
     "name": "stdout",
     "output_type": "stream",
     "text": [
      "Tidying 山地立委-A05-4-得票數一覽表(宜蘭縣).xls\n",
      "Tidying 平地立委-A05-4-得票數一覽表(宜蘭縣).xls\n",
      "Tidying 山地立委-A05-4-得票數一覽表(彰化縣).xls\n",
      "Tidying 平地立委-A05-4-得票數一覽表(彰化縣).xls\n",
      "Tidying 山地立委-A05-4-得票數一覽表(金門縣).xls\n",
      "Tidying 平地立委-A05-4-得票數一覽表(金門縣).xls\n",
      "Tidying 山地立委-A05-4-得票數一覽表(桃園市).xls\n",
      "Tidying 平地立委-A05-4-得票數一覽表(桃園市).xls\n",
      "Tidying 山地立委-A05-4-得票數一覽表(苗栗縣).xls\n",
      "Tidying 平地立委-A05-4-得票數一覽表(苗栗縣).xls\n",
      "Tidying 山地立委-A05-4-得票數一覽表(臺南市).xls\n",
      "Tidying 平地立委-A05-4-得票數一覽表(臺南市).xls\n",
      "Tidying 山地立委-A05-4-得票數一覽表(雲林縣).xls\n",
      "Tidying 平地立委-A05-4-得票數一覽表(雲林縣).xls\n",
      "Tidying 山地立委-A05-4-得票數一覽表(南投縣).xls\n",
      "Tidying 平地立委-A05-4-得票數一覽表(南投縣).xls\n",
      "Tidying 山地立委-A05-4-得票數一覽表(高雄市).xls\n",
      "Tidying 平地立委-A05-4-得票數一覽表(高雄市).xls\n",
      "Tidying 山地立委-A05-4-得票數一覽表(臺北市).xls\n",
      "Tidying 平地立委-A05-4-得票數一覽表(臺北市).xls\n",
      "Tidying 山地立委-A05-4-得票數一覽表(新北市).xls\n",
      "Tidying 平地立委-A05-4-得票數一覽表(新北市).xls\n",
      "Tidying 山地立委-A05-4-得票數一覽表(花蓮縣).xls\n",
      "Tidying 平地立委-A05-4-得票數一覽表(花蓮縣).xls\n",
      "Tidying 山地立委-A05-4-得票數一覽表(新竹市).xls\n",
      "Tidying 平地立委-A05-4-得票數一覽表(新竹市).xls\n",
      "Tidying 山地立委-A05-4-得票數一覽表(新竹縣).xls\n",
      "Tidying 平地立委-A05-4-得票數一覽表(新竹縣).xls\n",
      "Tidying 山地立委-A05-4-得票數一覽表(基隆市).xls\n",
      "Tidying 平地立委-A05-4-得票數一覽表(基隆市).xls\n",
      "Tidying 山地立委-A05-4-得票數一覽表(連江縣).xls\n",
      "Tidying 平地立委-A05-4-得票數一覽表(連江縣).xls\n",
      "Tidying 山地立委-A05-4-得票數一覽表(嘉義縣).xls\n",
      "Tidying 平地立委-A05-4-得票數一覽表(嘉義縣).xls\n",
      "Tidying 山地立委-A05-4-得票數一覽表(嘉義市).xls\n",
      "Tidying 平地立委-A05-4-得票數一覽表(嘉義市).xls\n",
      "Tidying 山地立委-A05-4-得票數一覽表(屏東縣).xls\n",
      "Tidying 平地立委-A05-4-得票數一覽表(屏東縣).xls\n",
      "Tidying 山地立委-A05-4-得票數一覽表(澎湖縣).xls\n",
      "Tidying 平地立委-A05-4-得票數一覽表(澎湖縣).xls\n",
      "Tidying 山地立委-A05-4-得票數一覽表(臺東縣).xls\n",
      "Tidying 平地立委-A05-4-得票數一覽表(臺東縣).xls\n",
      "Tidying 山地立委-A05-4-得票數一覽表(臺中市).xls\n",
      "Tidying 平地立委-A05-4-得票數一覽表(臺中市).xls\n"
     ]
    }
   ],
   "source": [
    "indigenous = pd.DataFrame()\n",
    "indigenous_types = ['山地', '平地']\n",
    "for county in counties:\n",
    "    for indigenous_type in indigenous_types:\n",
    "        file_name = \"{}立委-A05-4-得票數一覽表({}).xls\".format(indigenous_type, county)\n",
    "        spreadsheet_path = \"立委-各投票所得票明細及概況(Excel檔)/{}\".format(file_name)\n",
    "        # skip those combined cells\n",
    "        df = pd.read_excel(spreadsheet_path, skiprows=[0, 1, 3, 4], thousands=',')\n",
    "        tidy_df = tidy_dataframe(df)\n",
    "        # appending dataframe of each city/county\n",
    "        tidy_df['county'] = county\n",
    "        tidy_df['electoral_district'] = '{}原住民'.format(indigenous_type)\n",
    "        indigenous = pd.concat([indigenous, tidy_df])\n",
    "        print(\"Tidying {}\".format(file_name))\n",
    "indigenous = indigenous.reset_index(drop=True) # reset index for the appended dataframe"
   ]
  },
  {
   "cell_type": "code",
   "execution_count": 34,
   "metadata": {
    "slideshow": {
     "slide_type": "subslide"
    }
   },
   "outputs": [
    {
     "data": {
      "text/html": [
       "<div>\n",
       "<style scoped>\n",
       "    .dataframe tbody tr th:only-of-type {\n",
       "        vertical-align: middle;\n",
       "    }\n",
       "\n",
       "    .dataframe tbody tr th {\n",
       "        vertical-align: top;\n",
       "    }\n",
       "\n",
       "    .dataframe thead th {\n",
       "        text-align: right;\n",
       "    }\n",
       "</style>\n",
       "<table border=\"1\" class=\"dataframe\">\n",
       "  <thead>\n",
       "    <tr style=\"text-align: right;\">\n",
       "      <th></th>\n",
       "      <th>town</th>\n",
       "      <th>village</th>\n",
       "      <th>office</th>\n",
       "      <th>candidate_info</th>\n",
       "      <th>votes</th>\n",
       "      <th>county</th>\n",
       "      <th>electoral_district</th>\n",
       "    </tr>\n",
       "  </thead>\n",
       "  <tbody>\n",
       "    <tr>\n",
       "      <th>0</th>\n",
       "      <td>宜蘭市</td>\n",
       "      <td>民族里</td>\n",
       "      <td>1.0</td>\n",
       "      <td>(1)\\n伍麗華Saidhai．Tahovecahe\\n民主進步黨</td>\n",
       "      <td>0</td>\n",
       "      <td>宜蘭縣</td>\n",
       "      <td>山地原住民</td>\n",
       "    </tr>\n",
       "    <tr>\n",
       "      <th>1</th>\n",
       "      <td>宜蘭市</td>\n",
       "      <td>民族里</td>\n",
       "      <td>2.0</td>\n",
       "      <td>(1)\\n伍麗華Saidhai．Tahovecahe\\n民主進步黨</td>\n",
       "      <td>0</td>\n",
       "      <td>宜蘭縣</td>\n",
       "      <td>山地原住民</td>\n",
       "    </tr>\n",
       "    <tr>\n",
       "      <th>2</th>\n",
       "      <td>宜蘭市</td>\n",
       "      <td>建軍里</td>\n",
       "      <td>3.0</td>\n",
       "      <td>(1)\\n伍麗華Saidhai．Tahovecahe\\n民主進步黨</td>\n",
       "      <td>0</td>\n",
       "      <td>宜蘭縣</td>\n",
       "      <td>山地原住民</td>\n",
       "    </tr>\n",
       "    <tr>\n",
       "      <th>3</th>\n",
       "      <td>宜蘭市</td>\n",
       "      <td>建軍里</td>\n",
       "      <td>4.0</td>\n",
       "      <td>(1)\\n伍麗華Saidhai．Tahovecahe\\n民主進步黨</td>\n",
       "      <td>0</td>\n",
       "      <td>宜蘭縣</td>\n",
       "      <td>山地原住民</td>\n",
       "    </tr>\n",
       "    <tr>\n",
       "      <th>4</th>\n",
       "      <td>宜蘭市</td>\n",
       "      <td>泰山里</td>\n",
       "      <td>5.0</td>\n",
       "      <td>(1)\\n伍麗華Saidhai．Tahovecahe\\n民主進步黨</td>\n",
       "      <td>0</td>\n",
       "      <td>宜蘭縣</td>\n",
       "      <td>山地原住民</td>\n",
       "    </tr>\n",
       "  </tbody>\n",
       "</table>\n",
       "</div>"
      ],
      "text/plain": [
       "  town village  office                     candidate_info  votes county  \\\n",
       "0  宜蘭市     民族里     1.0  (1)\\n伍麗華Saidhai．Tahovecahe\\n民主進步黨      0    宜蘭縣   \n",
       "1  宜蘭市     民族里     2.0  (1)\\n伍麗華Saidhai．Tahovecahe\\n民主進步黨      0    宜蘭縣   \n",
       "2  宜蘭市     建軍里     3.0  (1)\\n伍麗華Saidhai．Tahovecahe\\n民主進步黨      0    宜蘭縣   \n",
       "3  宜蘭市     建軍里     4.0  (1)\\n伍麗華Saidhai．Tahovecahe\\n民主進步黨      0    宜蘭縣   \n",
       "4  宜蘭市     泰山里     5.0  (1)\\n伍麗華Saidhai．Tahovecahe\\n民主進步黨      0    宜蘭縣   \n",
       "\n",
       "  electoral_district  \n",
       "0              山地原住民  \n",
       "1              山地原住民  \n",
       "2              山地原住民  \n",
       "3              山地原住民  \n",
       "4              山地原住民  "
      ]
     },
     "execution_count": 34,
     "metadata": {},
     "output_type": "execute_result"
    }
   ],
   "source": [
    "indigenous.head()"
   ]
  },
  {
   "cell_type": "markdown",
   "metadata": {
    "slideshow": {
     "slide_type": "subslide"
    }
   },
   "source": [
    "## 應用 `adjust_legislative()` 函數"
   ]
  },
  {
   "cell_type": "code",
   "execution_count": 35,
   "metadata": {},
   "outputs": [],
   "source": [
    "indigenous = adjust_legislative(indigenous)\n",
    "indigenous = indigenous[['county', 'electoral_district', 'town', 'village', 'office', 'number', 'party', 'candidate', 'votes']]"
   ]
  },
  {
   "cell_type": "code",
   "execution_count": 36,
   "metadata": {
    "slideshow": {
     "slide_type": "subslide"
    }
   },
   "outputs": [
    {
     "data": {
      "text/html": [
       "<div>\n",
       "<style scoped>\n",
       "    .dataframe tbody tr th:only-of-type {\n",
       "        vertical-align: middle;\n",
       "    }\n",
       "\n",
       "    .dataframe tbody tr th {\n",
       "        vertical-align: top;\n",
       "    }\n",
       "\n",
       "    .dataframe thead th {\n",
       "        text-align: right;\n",
       "    }\n",
       "</style>\n",
       "<table border=\"1\" class=\"dataframe\">\n",
       "  <thead>\n",
       "    <tr style=\"text-align: right;\">\n",
       "      <th></th>\n",
       "      <th>county</th>\n",
       "      <th>electoral_district</th>\n",
       "      <th>town</th>\n",
       "      <th>village</th>\n",
       "      <th>office</th>\n",
       "      <th>number</th>\n",
       "      <th>party</th>\n",
       "      <th>candidate</th>\n",
       "      <th>votes</th>\n",
       "    </tr>\n",
       "  </thead>\n",
       "  <tbody>\n",
       "    <tr>\n",
       "      <th>0</th>\n",
       "      <td>宜蘭縣</td>\n",
       "      <td>山地原住民</td>\n",
       "      <td>宜蘭市</td>\n",
       "      <td>民族里</td>\n",
       "      <td>1</td>\n",
       "      <td>(1)</td>\n",
       "      <td>民主進步黨</td>\n",
       "      <td>伍麗華Saidhai．Tahovecahe</td>\n",
       "      <td>0</td>\n",
       "    </tr>\n",
       "    <tr>\n",
       "      <th>1</th>\n",
       "      <td>宜蘭縣</td>\n",
       "      <td>山地原住民</td>\n",
       "      <td>宜蘭市</td>\n",
       "      <td>民族里</td>\n",
       "      <td>2</td>\n",
       "      <td>(1)</td>\n",
       "      <td>民主進步黨</td>\n",
       "      <td>伍麗華Saidhai．Tahovecahe</td>\n",
       "      <td>0</td>\n",
       "    </tr>\n",
       "    <tr>\n",
       "      <th>2</th>\n",
       "      <td>宜蘭縣</td>\n",
       "      <td>山地原住民</td>\n",
       "      <td>宜蘭市</td>\n",
       "      <td>建軍里</td>\n",
       "      <td>3</td>\n",
       "      <td>(1)</td>\n",
       "      <td>民主進步黨</td>\n",
       "      <td>伍麗華Saidhai．Tahovecahe</td>\n",
       "      <td>0</td>\n",
       "    </tr>\n",
       "    <tr>\n",
       "      <th>3</th>\n",
       "      <td>宜蘭縣</td>\n",
       "      <td>山地原住民</td>\n",
       "      <td>宜蘭市</td>\n",
       "      <td>建軍里</td>\n",
       "      <td>4</td>\n",
       "      <td>(1)</td>\n",
       "      <td>民主進步黨</td>\n",
       "      <td>伍麗華Saidhai．Tahovecahe</td>\n",
       "      <td>0</td>\n",
       "    </tr>\n",
       "    <tr>\n",
       "      <th>4</th>\n",
       "      <td>宜蘭縣</td>\n",
       "      <td>山地原住民</td>\n",
       "      <td>宜蘭市</td>\n",
       "      <td>泰山里</td>\n",
       "      <td>5</td>\n",
       "      <td>(1)</td>\n",
       "      <td>民主進步黨</td>\n",
       "      <td>伍麗華Saidhai．Tahovecahe</td>\n",
       "      <td>0</td>\n",
       "    </tr>\n",
       "  </tbody>\n",
       "</table>\n",
       "</div>"
      ],
      "text/plain": [
       "  county electoral_district town village  office number  party  \\\n",
       "0    宜蘭縣              山地原住民  宜蘭市     民族里       1    (1)  民主進步黨   \n",
       "1    宜蘭縣              山地原住民  宜蘭市     民族里       2    (1)  民主進步黨   \n",
       "2    宜蘭縣              山地原住民  宜蘭市     建軍里       3    (1)  民主進步黨   \n",
       "3    宜蘭縣              山地原住民  宜蘭市     建軍里       4    (1)  民主進步黨   \n",
       "4    宜蘭縣              山地原住民  宜蘭市     泰山里       5    (1)  民主進步黨   \n",
       "\n",
       "               candidate  votes  \n",
       "0  伍麗華Saidhai．Tahovecahe      0  \n",
       "1  伍麗華Saidhai．Tahovecahe      0  \n",
       "2  伍麗華Saidhai．Tahovecahe      0  \n",
       "3  伍麗華Saidhai．Tahovecahe      0  \n",
       "4  伍麗華Saidhai．Tahovecahe      0  "
      ]
     },
     "execution_count": 36,
     "metadata": {},
     "output_type": "execute_result"
    }
   ],
   "source": [
    "indigenous.head()"
   ]
  },
  {
   "cell_type": "markdown",
   "metadata": {
    "slideshow": {
     "slide_type": "subslide"
    }
   },
   "source": [
    "## 區域立委、平地原住民立委與山地原住民立委是投給「候選人」"
   ]
  },
  {
   "cell_type": "code",
   "execution_count": 37,
   "metadata": {},
   "outputs": [],
   "source": [
    "legislative_regional = pd.concat([regional, indigenous], axis=0)\n",
    "legislative_regional = legislative_regional.reset_index(drop=True)"
   ]
  },
  {
   "cell_type": "markdown",
   "metadata": {
    "slideshow": {
     "slide_type": "subslide"
    }
   },
   "source": [
    "## 應用 `tidy_dataframe()` 函數在不分區立委試算表"
   ]
  },
  {
   "cell_type": "code",
   "execution_count": 38,
   "metadata": {},
   "outputs": [
    {
     "name": "stdout",
     "output_type": "stream",
     "text": [
      "Tidying 不分區立委-A05-6-得票數一覽表(宜蘭縣).xls\n",
      "Tidying 不分區立委-A05-6-得票數一覽表(彰化縣).xls\n",
      "Tidying 不分區立委-A05-6-得票數一覽表(金門縣).xls\n",
      "Tidying 不分區立委-A05-6-得票數一覽表(桃園市).xls\n",
      "Tidying 不分區立委-A05-6-得票數一覽表(苗栗縣).xls\n",
      "Tidying 不分區立委-A05-6-得票數一覽表(臺南市).xls\n",
      "Tidying 不分區立委-A05-6-得票數一覽表(雲林縣).xls\n",
      "Tidying 不分區立委-A05-6-得票數一覽表(南投縣).xls\n",
      "Tidying 不分區立委-A05-6-得票數一覽表(高雄市).xls\n",
      "Tidying 不分區立委-A05-6-得票數一覽表(臺北市).xls\n",
      "Tidying 不分區立委-A05-6-得票數一覽表(新北市).xls\n",
      "Tidying 不分區立委-A05-6-得票數一覽表(花蓮縣).xls\n",
      "Tidying 不分區立委-A05-6-得票數一覽表(新竹市).xls\n",
      "Tidying 不分區立委-A05-6-得票數一覽表(新竹縣).xls\n",
      "Tidying 不分區立委-A05-6-得票數一覽表(基隆市).xls\n",
      "Tidying 不分區立委-A05-6-得票數一覽表(連江縣).xls\n",
      "Tidying 不分區立委-A05-6-得票數一覽表(嘉義縣).xls\n",
      "Tidying 不分區立委-A05-6-得票數一覽表(嘉義市).xls\n",
      "Tidying 不分區立委-A05-6-得票數一覽表(屏東縣).xls\n",
      "Tidying 不分區立委-A05-6-得票數一覽表(澎湖縣).xls\n",
      "Tidying 不分區立委-A05-6-得票數一覽表(臺東縣).xls\n",
      "Tidying 不分區立委-A05-6-得票數一覽表(臺中市).xls\n"
     ]
    }
   ],
   "source": [
    "legislative_at_large = pd.DataFrame()\n",
    "for county in counties:\n",
    "    file_name = \"不分區立委-A05-6-得票數一覽表({}).xls\".format(county)\n",
    "    spreadsheet_path = \"立委-各投票所得票明細及概況(Excel檔)/{}\".format(file_name)\n",
    "    # skip those combined cells\n",
    "    df = pd.read_excel(spreadsheet_path, skiprows=[0, 1, 3, 4], thousands=',')\n",
    "    tidy_df = tidy_dataframe(df)\n",
    "    # appending dataframe of each city/county\n",
    "    tidy_df['county'] = county\n",
    "    legislative_at_large = pd.concat([legislative_at_large,tidy_df])\n",
    "    print(\"Tidying {}\".format(file_name))\n",
    "legislative_at_large = legislative_at_large.reset_index(drop=True) # reset index for the appended dataframe"
   ]
  },
  {
   "cell_type": "code",
   "execution_count": 39,
   "metadata": {
    "slideshow": {
     "slide_type": "subslide"
    }
   },
   "outputs": [
    {
     "data": {
      "text/html": [
       "<div>\n",
       "<style scoped>\n",
       "    .dataframe tbody tr th:only-of-type {\n",
       "        vertical-align: middle;\n",
       "    }\n",
       "\n",
       "    .dataframe tbody tr th {\n",
       "        vertical-align: top;\n",
       "    }\n",
       "\n",
       "    .dataframe thead th {\n",
       "        text-align: right;\n",
       "    }\n",
       "</style>\n",
       "<table border=\"1\" class=\"dataframe\">\n",
       "  <thead>\n",
       "    <tr style=\"text-align: right;\">\n",
       "      <th></th>\n",
       "      <th>town</th>\n",
       "      <th>village</th>\n",
       "      <th>office</th>\n",
       "      <th>candidate_info</th>\n",
       "      <th>votes</th>\n",
       "      <th>county</th>\n",
       "    </tr>\n",
       "  </thead>\n",
       "  <tbody>\n",
       "    <tr>\n",
       "      <th>0</th>\n",
       "      <td>宜蘭市</td>\n",
       "      <td>民族里</td>\n",
       "      <td>1.0</td>\n",
       "      <td>(1)\\n\\n合一行動聯盟</td>\n",
       "      <td>2</td>\n",
       "      <td>宜蘭縣</td>\n",
       "    </tr>\n",
       "    <tr>\n",
       "      <th>1</th>\n",
       "      <td>宜蘭市</td>\n",
       "      <td>民族里</td>\n",
       "      <td>2.0</td>\n",
       "      <td>(1)\\n\\n合一行動聯盟</td>\n",
       "      <td>1</td>\n",
       "      <td>宜蘭縣</td>\n",
       "    </tr>\n",
       "    <tr>\n",
       "      <th>2</th>\n",
       "      <td>宜蘭市</td>\n",
       "      <td>建軍里</td>\n",
       "      <td>3.0</td>\n",
       "      <td>(1)\\n\\n合一行動聯盟</td>\n",
       "      <td>2</td>\n",
       "      <td>宜蘭縣</td>\n",
       "    </tr>\n",
       "    <tr>\n",
       "      <th>3</th>\n",
       "      <td>宜蘭市</td>\n",
       "      <td>建軍里</td>\n",
       "      <td>4.0</td>\n",
       "      <td>(1)\\n\\n合一行動聯盟</td>\n",
       "      <td>0</td>\n",
       "      <td>宜蘭縣</td>\n",
       "    </tr>\n",
       "    <tr>\n",
       "      <th>4</th>\n",
       "      <td>宜蘭市</td>\n",
       "      <td>泰山里</td>\n",
       "      <td>5.0</td>\n",
       "      <td>(1)\\n\\n合一行動聯盟</td>\n",
       "      <td>3</td>\n",
       "      <td>宜蘭縣</td>\n",
       "    </tr>\n",
       "  </tbody>\n",
       "</table>\n",
       "</div>"
      ],
      "text/plain": [
       "  town village  office candidate_info  votes county\n",
       "0  宜蘭市     民族里     1.0  (1)\\n\\n合一行動聯盟      2    宜蘭縣\n",
       "1  宜蘭市     民族里     2.0  (1)\\n\\n合一行動聯盟      1    宜蘭縣\n",
       "2  宜蘭市     建軍里     3.0  (1)\\n\\n合一行動聯盟      2    宜蘭縣\n",
       "3  宜蘭市     建軍里     4.0  (1)\\n\\n合一行動聯盟      0    宜蘭縣\n",
       "4  宜蘭市     泰山里     5.0  (1)\\n\\n合一行動聯盟      3    宜蘭縣"
      ]
     },
     "execution_count": 39,
     "metadata": {},
     "output_type": "execute_result"
    }
   ],
   "source": [
    "legislative_at_large.head()"
   ]
  },
  {
   "cell_type": "markdown",
   "metadata": {
    "slideshow": {
     "slide_type": "subslide"
    }
   },
   "source": [
    "## 應用 `adjust_legislative()` 函數調整"
   ]
  },
  {
   "cell_type": "code",
   "execution_count": 40,
   "metadata": {},
   "outputs": [
    {
     "data": {
      "text/html": [
       "<div>\n",
       "<style scoped>\n",
       "    .dataframe tbody tr th:only-of-type {\n",
       "        vertical-align: middle;\n",
       "    }\n",
       "\n",
       "    .dataframe tbody tr th {\n",
       "        vertical-align: top;\n",
       "    }\n",
       "\n",
       "    .dataframe thead th {\n",
       "        text-align: right;\n",
       "    }\n",
       "</style>\n",
       "<table border=\"1\" class=\"dataframe\">\n",
       "  <thead>\n",
       "    <tr style=\"text-align: right;\">\n",
       "      <th></th>\n",
       "      <th>county</th>\n",
       "      <th>town</th>\n",
       "      <th>village</th>\n",
       "      <th>office</th>\n",
       "      <th>number</th>\n",
       "      <th>party</th>\n",
       "      <th>votes</th>\n",
       "    </tr>\n",
       "  </thead>\n",
       "  <tbody>\n",
       "    <tr>\n",
       "      <th>0</th>\n",
       "      <td>宜蘭縣</td>\n",
       "      <td>宜蘭市</td>\n",
       "      <td>民族里</td>\n",
       "      <td>1</td>\n",
       "      <td>(1)</td>\n",
       "      <td>合一行動聯盟</td>\n",
       "      <td>2</td>\n",
       "    </tr>\n",
       "    <tr>\n",
       "      <th>1</th>\n",
       "      <td>宜蘭縣</td>\n",
       "      <td>宜蘭市</td>\n",
       "      <td>民族里</td>\n",
       "      <td>2</td>\n",
       "      <td>(1)</td>\n",
       "      <td>合一行動聯盟</td>\n",
       "      <td>1</td>\n",
       "    </tr>\n",
       "    <tr>\n",
       "      <th>2</th>\n",
       "      <td>宜蘭縣</td>\n",
       "      <td>宜蘭市</td>\n",
       "      <td>建軍里</td>\n",
       "      <td>3</td>\n",
       "      <td>(1)</td>\n",
       "      <td>合一行動聯盟</td>\n",
       "      <td>2</td>\n",
       "    </tr>\n",
       "    <tr>\n",
       "      <th>3</th>\n",
       "      <td>宜蘭縣</td>\n",
       "      <td>宜蘭市</td>\n",
       "      <td>建軍里</td>\n",
       "      <td>4</td>\n",
       "      <td>(1)</td>\n",
       "      <td>合一行動聯盟</td>\n",
       "      <td>0</td>\n",
       "    </tr>\n",
       "    <tr>\n",
       "      <th>4</th>\n",
       "      <td>宜蘭縣</td>\n",
       "      <td>宜蘭市</td>\n",
       "      <td>泰山里</td>\n",
       "      <td>5</td>\n",
       "      <td>(1)</td>\n",
       "      <td>合一行動聯盟</td>\n",
       "      <td>3</td>\n",
       "    </tr>\n",
       "  </tbody>\n",
       "</table>\n",
       "</div>"
      ],
      "text/plain": [
       "  county town village  office number   party  votes\n",
       "0    宜蘭縣  宜蘭市     民族里       1    (1)  合一行動聯盟      2\n",
       "1    宜蘭縣  宜蘭市     民族里       2    (1)  合一行動聯盟      1\n",
       "2    宜蘭縣  宜蘭市     建軍里       3    (1)  合一行動聯盟      2\n",
       "3    宜蘭縣  宜蘭市     建軍里       4    (1)  合一行動聯盟      0\n",
       "4    宜蘭縣  宜蘭市     泰山里       5    (1)  合一行動聯盟      3"
      ]
     },
     "execution_count": 40,
     "metadata": {},
     "output_type": "execute_result"
    }
   ],
   "source": [
    "legislative_at_large = adjust_legislative(legislative_at_large)\n",
    "legislative_at_large = legislative_at_large[['county', 'town', 'village', 'office', 'number', 'party', 'votes']]\n",
    "legislative_at_large.head()"
   ]
  },
  {
   "cell_type": "markdown",
   "metadata": {
    "slideshow": {
     "slide_type": "subslide"
    }
   },
   "source": [
    "## 我們可以定義類別 `TaiwanElection2020` 更進一步把前述程式封裝起來\n",
    "\n",
    "<https://github.com/datainpoint/workshop-cec-data-wrangling-with-python/blob/main/taiwan_election_2020.py>"
   ]
  },
  {
   "cell_type": "code",
   "execution_count": 41,
   "metadata": {
    "slideshow": {
     "slide_type": "subslide"
    }
   },
   "outputs": [
    {
     "name": "stdout",
     "output_type": "stream",
     "text": [
      "Tidying 總統-A05-4-候選人得票數一覽表-各投開票所(宜蘭縣).xls\n",
      "Tidying 總統-A05-4-候選人得票數一覽表-各投開票所(彰化縣).xls\n",
      "Tidying 總統-A05-4-候選人得票數一覽表-各投開票所(金門縣).xls\n",
      "Tidying 總統-A05-4-候選人得票數一覽表-各投開票所(桃園市).xls\n",
      "Tidying 總統-A05-4-候選人得票數一覽表-各投開票所(苗栗縣).xls\n",
      "Tidying 總統-A05-4-候選人得票數一覽表-各投開票所(臺南市).xls\n",
      "Tidying 總統-A05-4-候選人得票數一覽表-各投開票所(雲林縣).xls\n",
      "Tidying 總統-A05-4-候選人得票數一覽表-各投開票所(南投縣).xls\n",
      "Tidying 總統-A05-4-候選人得票數一覽表-各投開票所(高雄市).xls\n",
      "Tidying 總統-A05-4-候選人得票數一覽表-各投開票所(臺北市).xls\n",
      "Tidying 總統-A05-4-候選人得票數一覽表-各投開票所(新北市).xls\n",
      "Tidying 總統-A05-4-候選人得票數一覽表-各投開票所(花蓮縣).xls\n",
      "Tidying 總統-A05-4-候選人得票數一覽表-各投開票所(新竹市).xls\n",
      "Tidying 總統-A05-4-候選人得票數一覽表-各投開票所(新竹縣).xls\n",
      "Tidying 總統-A05-4-候選人得票數一覽表-各投開票所(基隆市).xls\n",
      "Tidying 總統-A05-4-候選人得票數一覽表-各投開票所(連江縣).xls\n",
      "Tidying 總統-A05-4-候選人得票數一覽表-各投開票所(嘉義縣).xls\n",
      "Tidying 總統-A05-4-候選人得票數一覽表-各投開票所(嘉義市).xls\n",
      "Tidying 總統-A05-4-候選人得票數一覽表-各投開票所(屏東縣).xls\n",
      "Tidying 總統-A05-4-候選人得票數一覽表-各投開票所(澎湖縣).xls\n",
      "Tidying 總統-A05-4-候選人得票數一覽表-各投開票所(臺東縣).xls\n",
      "Tidying 總統-A05-4-候選人得票數一覽表-各投開票所(臺中市).xls\n",
      "Tidying 宜蘭縣選舉區 of 區域立委-A05-2-得票數一覽表(宜蘭縣).xls\n",
      "Tidying 彰化縣第1選舉區 of 區域立委-A05-2-得票數一覽表(彰化縣).xls\n",
      "Tidying 彰化縣第2選舉區 of 區域立委-A05-2-得票數一覽表(彰化縣).xls\n",
      "Tidying 彰化縣第3選舉區 of 區域立委-A05-2-得票數一覽表(彰化縣).xls\n",
      "Tidying 彰化縣第4選舉區 of 區域立委-A05-2-得票數一覽表(彰化縣).xls\n",
      "Tidying 金門縣選舉區 of 區域立委-A05-2-得票數一覽表(金門縣).xls\n",
      "Tidying 桃園市第1選舉區 of 區域立委-A05-2-得票數一覽表(桃園市).xls\n",
      "Tidying 桃園市第2選舉區 of 區域立委-A05-2-得票數一覽表(桃園市).xls\n",
      "Tidying 桃園市第3選舉區 of 區域立委-A05-2-得票數一覽表(桃園市).xls\n",
      "Tidying 桃園市第4選舉區 of 區域立委-A05-2-得票數一覽表(桃園市).xls\n",
      "Tidying 桃園市第5選舉區 of 區域立委-A05-2-得票數一覽表(桃園市).xls\n",
      "Tidying 桃園市第6選舉區 of 區域立委-A05-2-得票數一覽表(桃園市).xls\n",
      "Tidying 苗栗縣第1選舉區 of 區域立委-A05-2-得票數一覽表(苗栗縣).xls\n",
      "Tidying 苗栗縣第2選舉區 of 區域立委-A05-2-得票數一覽表(苗栗縣).xls\n",
      "Tidying 臺南市第1選舉區 of 區域立委-A05-2-得票數一覽表(臺南市).xls\n",
      "Tidying 臺南市第2選舉區 of 區域立委-A05-2-得票數一覽表(臺南市).xls\n",
      "Tidying 臺南市第3選舉區 of 區域立委-A05-2-得票數一覽表(臺南市).xls\n",
      "Tidying 臺南市第4選舉區 of 區域立委-A05-2-得票數一覽表(臺南市).xls\n",
      "Tidying 臺南市第5選舉區 of 區域立委-A05-2-得票數一覽表(臺南市).xls\n",
      "Tidying 臺南市第6選舉區 of 區域立委-A05-2-得票數一覽表(臺南市).xls\n",
      "Tidying 雲林縣第1選舉區 of 區域立委-A05-2-得票數一覽表(雲林縣).xls\n",
      "Tidying 雲林縣第2選舉區 of 區域立委-A05-2-得票數一覽表(雲林縣).xls\n",
      "Tidying 南投縣第1選舉區 of 區域立委-A05-2-得票數一覽表(南投縣).xls\n",
      "Tidying 南投縣第2選舉區 of 區域立委-A05-2-得票數一覽表(南投縣).xls\n",
      "Tidying 高雄市第1選舉區 of 區域立委-A05-2-得票數一覽表(高雄市).xls\n",
      "Tidying 高雄市第2選舉區 of 區域立委-A05-2-得票數一覽表(高雄市).xls\n",
      "Tidying 高雄市第3選舉區 of 區域立委-A05-2-得票數一覽表(高雄市).xls\n",
      "Tidying 高雄市第4選舉區 of 區域立委-A05-2-得票數一覽表(高雄市).xls\n",
      "Tidying 高雄市第5選舉區 of 區域立委-A05-2-得票數一覽表(高雄市).xls\n",
      "Tidying 高雄市第6選舉區 of 區域立委-A05-2-得票數一覽表(高雄市).xls\n",
      "Tidying 高雄市第7選舉區 of 區域立委-A05-2-得票數一覽表(高雄市).xls\n",
      "Tidying 高雄市第8選舉區 of 區域立委-A05-2-得票數一覽表(高雄市).xls\n",
      "Tidying 臺北市第1選舉區 of 區域立委-A05-2-得票數一覽表(臺北市).xls\n",
      "Tidying 臺北市第2選舉區 of 區域立委-A05-2-得票數一覽表(臺北市).xls\n",
      "Tidying 臺北市第3選舉區 of 區域立委-A05-2-得票數一覽表(臺北市).xls\n",
      "Tidying 臺北市第4選舉區 of 區域立委-A05-2-得票數一覽表(臺北市).xls\n",
      "Tidying 臺北市第5選舉區 of 區域立委-A05-2-得票數一覽表(臺北市).xls\n",
      "Tidying 臺北市第6選舉區 of 區域立委-A05-2-得票數一覽表(臺北市).xls\n",
      "Tidying 臺北市第7選舉區 of 區域立委-A05-2-得票數一覽表(臺北市).xls\n",
      "Tidying 臺北市第8選舉區 of 區域立委-A05-2-得票數一覽表(臺北市).xls\n",
      "Tidying 新北市第1選舉區 of 區域立委-A05-2-得票數一覽表(新北市).xls\n",
      "Tidying 新北市第2選舉區 of 區域立委-A05-2-得票數一覽表(新北市).xls\n",
      "Tidying 新北市第3選舉區 of 區域立委-A05-2-得票數一覽表(新北市).xls\n",
      "Tidying 新北市第4選舉區 of 區域立委-A05-2-得票數一覽表(新北市).xls\n",
      "Tidying 新北市第5選舉區 of 區域立委-A05-2-得票數一覽表(新北市).xls\n",
      "Tidying 新北市第6選舉區 of 區域立委-A05-2-得票數一覽表(新北市).xls\n",
      "Tidying 新北市第7選舉區 of 區域立委-A05-2-得票數一覽表(新北市).xls\n",
      "Tidying 新北市第8選舉區 of 區域立委-A05-2-得票數一覽表(新北市).xls\n",
      "Tidying 新北市第9選舉區 of 區域立委-A05-2-得票數一覽表(新北市).xls\n",
      "Tidying 新北市第10選舉區 of 區域立委-A05-2-得票數一覽表(新北市).xls\n",
      "Tidying 新北市第11選舉區 of 區域立委-A05-2-得票數一覽表(新北市).xls\n",
      "Tidying 新北市第12選舉區 of 區域立委-A05-2-得票數一覽表(新北市).xls\n",
      "Tidying 花蓮縣選舉區 of 區域立委-A05-2-得票數一覽表(花蓮縣).xls\n",
      "Tidying 新竹市選舉區 of 區域立委-A05-2-得票數一覽表(新竹市).xls\n",
      "Tidying 新竹縣第1選舉區 of 區域立委-A05-2-得票數一覽表(新竹縣).xls\n",
      "Tidying 新竹縣第2選舉區 of 區域立委-A05-2-得票數一覽表(新竹縣).xls\n",
      "Tidying 基隆市選舉區 of 區域立委-A05-2-得票數一覽表(基隆市).xls\n",
      "Tidying 連江縣選舉區 of 區域立委-A05-2-得票數一覽表(連江縣).xls\n",
      "Tidying 嘉義縣第1選舉區 of 區域立委-A05-2-得票數一覽表(嘉義縣).xls\n",
      "Tidying 嘉義縣第2選舉區 of 區域立委-A05-2-得票數一覽表(嘉義縣).xls\n",
      "Tidying 嘉義市選舉區 of 區域立委-A05-2-得票數一覽表(嘉義市).xls\n",
      "Tidying 屏東縣第1選舉區 of 區域立委-A05-2-得票數一覽表(屏東縣).xls\n",
      "Tidying 屏東縣第2選舉區 of 區域立委-A05-2-得票數一覽表(屏東縣).xls\n",
      "Tidying 澎湖縣選舉區 of 區域立委-A05-2-得票數一覽表(澎湖縣).xls\n",
      "Tidying 臺東縣選舉區 of 區域立委-A05-2-得票數一覽表(臺東縣).xls\n",
      "Tidying 臺中市第1選舉區 of 區域立委-A05-2-得票數一覽表(臺中市).xls\n",
      "Tidying 臺中市第2選舉區 of 區域立委-A05-2-得票數一覽表(臺中市).xls\n",
      "Tidying 臺中市第3選舉區 of 區域立委-A05-2-得票數一覽表(臺中市).xls\n",
      "Tidying 臺中市第4選舉區 of 區域立委-A05-2-得票數一覽表(臺中市).xls\n",
      "Tidying 臺中市第5選舉區 of 區域立委-A05-2-得票數一覽表(臺中市).xls\n",
      "Tidying 臺中市第6選舉區 of 區域立委-A05-2-得票數一覽表(臺中市).xls\n",
      "Tidying 臺中市第7選舉區 of 區域立委-A05-2-得票數一覽表(臺中市).xls\n",
      "Tidying 臺中市第8選舉區 of 區域立委-A05-2-得票數一覽表(臺中市).xls\n",
      "Tidying 山地立委-A05-4-得票數一覽表(宜蘭縣).xls\n",
      "Tidying 平地立委-A05-4-得票數一覽表(宜蘭縣).xls\n",
      "Tidying 山地立委-A05-4-得票數一覽表(彰化縣).xls\n",
      "Tidying 平地立委-A05-4-得票數一覽表(彰化縣).xls\n",
      "Tidying 山地立委-A05-4-得票數一覽表(金門縣).xls\n",
      "Tidying 平地立委-A05-4-得票數一覽表(金門縣).xls\n",
      "Tidying 山地立委-A05-4-得票數一覽表(桃園市).xls\n",
      "Tidying 平地立委-A05-4-得票數一覽表(桃園市).xls\n",
      "Tidying 山地立委-A05-4-得票數一覽表(苗栗縣).xls\n",
      "Tidying 平地立委-A05-4-得票數一覽表(苗栗縣).xls\n",
      "Tidying 山地立委-A05-4-得票數一覽表(臺南市).xls\n",
      "Tidying 平地立委-A05-4-得票數一覽表(臺南市).xls\n",
      "Tidying 山地立委-A05-4-得票數一覽表(雲林縣).xls\n",
      "Tidying 平地立委-A05-4-得票數一覽表(雲林縣).xls\n",
      "Tidying 山地立委-A05-4-得票數一覽表(南投縣).xls\n",
      "Tidying 平地立委-A05-4-得票數一覽表(南投縣).xls\n",
      "Tidying 山地立委-A05-4-得票數一覽表(高雄市).xls\n",
      "Tidying 平地立委-A05-4-得票數一覽表(高雄市).xls\n",
      "Tidying 山地立委-A05-4-得票數一覽表(臺北市).xls\n",
      "Tidying 平地立委-A05-4-得票數一覽表(臺北市).xls\n",
      "Tidying 山地立委-A05-4-得票數一覽表(新北市).xls\n",
      "Tidying 平地立委-A05-4-得票數一覽表(新北市).xls\n",
      "Tidying 山地立委-A05-4-得票數一覽表(花蓮縣).xls\n",
      "Tidying 平地立委-A05-4-得票數一覽表(花蓮縣).xls\n",
      "Tidying 山地立委-A05-4-得票數一覽表(新竹市).xls\n",
      "Tidying 平地立委-A05-4-得票數一覽表(新竹市).xls\n",
      "Tidying 山地立委-A05-4-得票數一覽表(新竹縣).xls\n",
      "Tidying 平地立委-A05-4-得票數一覽表(新竹縣).xls\n",
      "Tidying 山地立委-A05-4-得票數一覽表(基隆市).xls\n",
      "Tidying 平地立委-A05-4-得票數一覽表(基隆市).xls\n",
      "Tidying 山地立委-A05-4-得票數一覽表(連江縣).xls\n",
      "Tidying 平地立委-A05-4-得票數一覽表(連江縣).xls\n",
      "Tidying 山地立委-A05-4-得票數一覽表(嘉義縣).xls\n",
      "Tidying 平地立委-A05-4-得票數一覽表(嘉義縣).xls\n",
      "Tidying 山地立委-A05-4-得票數一覽表(嘉義市).xls\n",
      "Tidying 平地立委-A05-4-得票數一覽表(嘉義市).xls\n",
      "Tidying 山地立委-A05-4-得票數一覽表(屏東縣).xls\n",
      "Tidying 平地立委-A05-4-得票數一覽表(屏東縣).xls\n",
      "Tidying 山地立委-A05-4-得票數一覽表(澎湖縣).xls\n",
      "Tidying 平地立委-A05-4-得票數一覽表(澎湖縣).xls\n",
      "Tidying 山地立委-A05-4-得票數一覽表(臺東縣).xls\n",
      "Tidying 平地立委-A05-4-得票數一覽表(臺東縣).xls\n",
      "Tidying 山地立委-A05-4-得票數一覽表(臺中市).xls\n",
      "Tidying 平地立委-A05-4-得票數一覽表(臺中市).xls\n",
      "Tidying 不分區立委-A05-6-得票數一覽表(宜蘭縣).xls\n",
      "Tidying 不分區立委-A05-6-得票數一覽表(彰化縣).xls\n",
      "Tidying 不分區立委-A05-6-得票數一覽表(金門縣).xls\n",
      "Tidying 不分區立委-A05-6-得票數一覽表(桃園市).xls\n",
      "Tidying 不分區立委-A05-6-得票數一覽表(苗栗縣).xls\n",
      "Tidying 不分區立委-A05-6-得票數一覽表(臺南市).xls\n",
      "Tidying 不分區立委-A05-6-得票數一覽表(雲林縣).xls\n",
      "Tidying 不分區立委-A05-6-得票數一覽表(南投縣).xls\n",
      "Tidying 不分區立委-A05-6-得票數一覽表(高雄市).xls\n",
      "Tidying 不分區立委-A05-6-得票數一覽表(臺北市).xls\n",
      "Tidying 不分區立委-A05-6-得票數一覽表(新北市).xls\n",
      "Tidying 不分區立委-A05-6-得票數一覽表(花蓮縣).xls\n",
      "Tidying 不分區立委-A05-6-得票數一覽表(新竹市).xls\n",
      "Tidying 不分區立委-A05-6-得票數一覽表(新竹縣).xls\n",
      "Tidying 不分區立委-A05-6-得票數一覽表(基隆市).xls\n",
      "Tidying 不分區立委-A05-6-得票數一覽表(連江縣).xls\n",
      "Tidying 不分區立委-A05-6-得票數一覽表(嘉義縣).xls\n",
      "Tidying 不分區立委-A05-6-得票數一覽表(嘉義市).xls\n",
      "Tidying 不分區立委-A05-6-得票數一覽表(屏東縣).xls\n",
      "Tidying 不分區立委-A05-6-得票數一覽表(澎湖縣).xls\n",
      "Tidying 不分區立委-A05-6-得票數一覽表(臺東縣).xls\n",
      "Tidying 不分區立委-A05-6-得票數一覽表(臺中市).xls\n"
     ]
    }
   ],
   "source": [
    "from taiwan_election_2020 import TaiwanElection2020\n",
    "\n",
    "tw_election = TaiwanElection2020()\n",
    "presidential = tw_election.generate_presidential()\n",
    "legislative_regional = tw_election.generate_legislative_regional()\n",
    "legislative_at_large = tw_election.generate_legislative_at_large()"
   ]
  },
  {
   "cell_type": "markdown",
   "metadata": {
    "slideshow": {
     "slide_type": "subslide"
    }
   },
   "source": [
    "## 完成了`立委-各投票所得票明細及概況`！\n",
    "\n",
    "![](https://media.giphy.com/media/13tw3BAKGrRMRy/giphy.gif)\n",
    "\n",
    "來源：<https://media.giphy.com/media/13tw3BAKGrRMRy/giphy.gif>"
   ]
  },
  {
   "cell_type": "markdown",
   "metadata": {
    "slideshow": {
     "slide_type": "subslide"
    }
   },
   "source": [
    "## 使用 `df.to_csv()` 方法將乾淨資料匯出成為 CSV 檔案\n",
    "\n",
    "我們通常指定參數 `index=False` 因為檔案中不需要 `Index`"
   ]
  },
  {
   "cell_type": "code",
   "execution_count": 42,
   "metadata": {},
   "outputs": [],
   "source": [
    "presidential.to_csv('presidential.csv', index=False)\n",
    "legislative_regional.to_csv('legislative_regional.csv', index=False)\n",
    "legislative_at_large.to_csv('legislative_at_large.csv', index=False)"
   ]
  },
  {
   "cell_type": "markdown",
   "metadata": {
    "slideshow": {
     "slide_type": "subslide"
    }
   },
   "source": [
    "## 使用 `df.to_sql()` 方法將乾淨資料會出成為 SQLite 資料庫檔案"
   ]
  },
  {
   "cell_type": "code",
   "execution_count": 43,
   "metadata": {},
   "outputs": [
    {
     "data": {
      "text/plain": [
       "327294"
      ]
     },
     "execution_count": 43,
     "metadata": {},
     "output_type": "execute_result"
    }
   ],
   "source": [
    "conn = sqlite3.connect('tw-election-2020.db')\n",
    "presidential.to_sql('presidential', con=conn, index=False, if_exists='replace')\n",
    "legislative_regional.to_sql('legislative_regional', con=conn, index=False, if_exists='replace')\n",
    "legislative_at_large.to_sql('legislative_at_large', con=conn, index=False, if_exists='replace')"
   ]
  }
 ],
 "metadata": {
  "celltoolbar": "Slideshow",
  "kernelspec": {
   "display_name": "Python 3.9",
   "language": "python",
   "name": "python39"
  },
  "language_info": {
   "codemirror_mode": {
    "name": "ipython",
    "version": 3
   },
   "file_extension": ".py",
   "mimetype": "text/x-python",
   "name": "python",
   "nbconvert_exporter": "python",
   "pygments_lexer": "ipython3",
   "version": "3.9.7"
  }
 },
 "nbformat": 4,
 "nbformat_minor": 4
}
